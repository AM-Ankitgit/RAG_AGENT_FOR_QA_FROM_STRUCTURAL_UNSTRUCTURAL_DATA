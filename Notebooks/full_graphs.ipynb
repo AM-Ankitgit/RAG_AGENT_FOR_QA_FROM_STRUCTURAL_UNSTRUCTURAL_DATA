{
 "cells": [
  {
   "cell_type": "code",
   "execution_count": 1,
   "metadata": {},
   "outputs": [
    {
     "data": {
      "text/plain": [
       "True"
      ]
     },
     "execution_count": 1,
     "metadata": {},
     "output_type": "execute_result"
    }
   ],
   "source": [
    "# design the full graph for integration of 3 different tools\n",
    "import os\n",
    "from dotenv import load_dotenv\n",
    "from pyprojroot import here\n",
    "\n",
    "load_dotenv()"
   ]
  },
  {
   "cell_type": "markdown",
   "metadata": {},
   "source": [
    "Set the environment variables"
   ]
  },
  {
   "cell_type": "code",
   "execution_count": 2,
   "metadata": {},
   "outputs": [],
   "source": [
    "os.environ['OPENAI_API_KEY'] = os.getenv(\"OPENAI_API_KEY\")\n",
    "os.environ['TAVILY_API_KEY'] = os.getenv(\"TAVILY_API_KEY\")"
   ]
  },
  {
   "cell_type": "markdown",
   "metadata": {},
   "source": [
    "# Initialize the tools"
   ]
  },
  {
   "cell_type": "markdown",
   "metadata": {},
   "source": [
    "### 1.1 Rag Tool Design for unstructured data"
   ]
  },
  {
   "cell_type": "code",
   "execution_count": 3,
   "metadata": {},
   "outputs": [
    {
     "name": "stdout",
     "output_type": "stream",
     "text": [
      "name='lookup_policy' description='Consult the company policies to check whether certain options are permitted.' args_schema=<class 'langchain_core.utils.pydantic.lookup_policy'> func=<function lookup_policy at 0x7436755e2d40>\n"
     ]
    }
   ],
   "source": [
    "from langchain_chroma import Chroma\n",
    "from langchain_openai import OpenAIEmbeddings\n",
    "from langchain_core.tools import tool\n",
    "\n",
    "EMBEDDING_MODEL = \"text-embedding-3-small\"\n",
    "VECTORDB_DIR = \"data/airline_policy_vectordb\"\n",
    "K = 2\n",
    "\n",
    "@tool\n",
    "def lookup_policy(query: str)->str:\n",
    "    \"\"\"Consult the company policies to check whether certain options are permitted.\"\"\"\n",
    "    vectordb = Chroma(\n",
    "    collection_name=\"rag-chroma\",\n",
    "    persist_directory=str(here(VECTORDB_DIR)),\n",
    "    embedding_function=OpenAIEmbeddings(model=EMBEDDING_MODEL)\n",
    "    )\n",
    "    docs = vectordb.similarity_search(query, k=K)\n",
    "    return \"\\n\\n\".join([doc.page_content for doc in docs])\n",
    "\n",
    "print(lookup_policy)"
   ]
  },
  {
   "cell_type": "code",
   "execution_count": 4,
   "metadata": {},
   "outputs": [],
   "source": [
    "# VECTORDB_DIR = \"data/airline_policy_vectordb\"\n",
    "# K=2\n",
    "\n",
    "# vectordb = Chroma(\n",
    "#     collection_name=\"rag-chroma\",\n",
    "#     persist_directory=str(here(VECTORDB_DIR)),\n",
    "#     embedding_function=EMBEDDING_MODEL\n",
    "# )\n",
    "# print(\"Number of vectors in vectordb:\",\n",
    "#       vectordb._collection.count(), \"\\n\\n\")\n"
   ]
  },
  {
   "cell_type": "code",
   "execution_count": 5,
   "metadata": {},
   "outputs": [
    {
     "data": {
      "text/plain": [
       "\"conditions of your ticket to make sure you're eligible for a refund.\\nSwiss Air Cancellation Fees The cancellation fees for Swiss Air flights may vary depending on the type of ticket you have\\npurchased. The airline offers three different types of tickets, which are:\\nFlex Ticket - This ticket offers the most flexibility and allows passengers to make changes or cancel their flight without\\nincurring any additional fees. Standard Ticket - This ticket offers some flexibility but charges a fee for changes and\\ncancellations. The fee for cancelling a standard ticket can range from 100 to 250 CHF, depending on the route and time\\nof cancellation. Economy Ticket - This ticket offers the least flexibility and charges a fee for any changes or cancellations.\\nThe fee for cancelling an economy ticket can range from 150 to 350 CHF, depending on the route and time of\\ncancellation. It is important to note that the fees listed above are subject to change and may vary depending on the\\nspecific ticket you have purchased. Additionally, if you have purchased any add-ons or upgrades, such as extra baggage\\nor seat selection, the fees associated with cancelling those may also apply.\\nSwiss Air Refund Policy If you cancel your Swiss Air flight, you may be eligible for a refund depending on the type of\\nticket you have purchased and the time of cancellation. Here are the details:\\nFlex Ticket - If you have purchased a Flex Ticket, you can cancel your flight without incurring any fees and receive a full\\nrefund. Standard Ticket - If you have purchased a Standard Ticket and cancel your flight within 24 hours of booking, you\\ncan receive a full refund. If you cancel your flight after 24 hours, you may be charged a cancellation fee and receive a\\npartial refund. Economy Ticket - If you have purchased an Economy Ticket and cancel your flight within 24 hours of\\nbooking, you can receive a full refund. If you cancel your flight after 24 hours, you may be charged a cancellation fee and\\n\\nfor a refund or may only be able to receive a partial refund. If you booked your flight through a third-party website or\\ntravel agent, you may need to contact them directly to cancel your flight. Always check the terms and conditions of your\\nticket to make sure you understand the cancellation policy and any associated fees or penalties. If you're cancelling your\\nflight due to unforeseen circumstances such as a medical emergency or a natural disaster, Swiss Air may offer you\\nspecial exemptions or accommodations. What is Swiss Airlines 24 Hour Cancellation Policy? Swiss Airlines has a 24\""
      ]
     },
     "execution_count": 5,
     "metadata": {},
     "output_type": "execute_result"
    }
   ],
   "source": [
    "lookup_policy.invoke(\"can I cancel my ticket?\")"
   ]
  },
  {
   "cell_type": "markdown",
   "metadata": {},
   "source": [
    "### 1.2 Search tool design"
   ]
  },
  {
   "cell_type": "code",
   "execution_count": 6,
   "metadata": {},
   "outputs": [],
   "source": [
    "from langchain_community.tools.tavily_search import TavilySearchResults"
   ]
  },
  {
   "cell_type": "code",
   "execution_count": 7,
   "metadata": {},
   "outputs": [
    {
     "data": {
      "text/plain": [
       "[{'url': 'https://timesofindia.indiatimes.com/india/timestopten.cms',\n",
       "  'content': 'With legal sand extraction unable to meet demand, illegal mining has surged, targeting riverbeds and resulting in environmental degradation and threats to human life, reports ToI. In states like Madhya Pradesh and Haryana, villagers, police officers, and government officials who oppose illegal sand mining face violent reprisals. In 2022, Haryana witnessed 12 sand mining-related attacks, including the murder of DSP Surender Singh, who was run over by a dumper truck during an illegal mining investigation, with six suspects arrested and the case still ongoing. Follow news that matters to you in real-time. A fuel tanker collided head-on with another truck in Nigeria on Sunday causing an explosion that killed at least 48 people, the country’s emergency response agency said.'},\n",
       " {'url': 'https://www.ndtv.com/india',\n",
       "  'content': 'Before Poll Panel, Sharad Pawar Camp Questions Premise Of Dispute In NCP\\nThe Sharad Pawar faction on Friday questioned before the Election Commission the very premise of the dispute in the NCP, claiming those who were part of conducting polls in the party in 2018 cannot now claim that the elections were flawed.\\n India News\\n\"4% Muslim Reservation Based On...\": Telangana Minister KT Rama Rao\\nTelangana Minister and Bharat Rashtra Samithi (BRS) MLA KT Rama Rao has said the 4 per cent Muslim reservation in the state is not on the basis of religion but on the basis of socio-economic status in the community.\\n RBI Supercedes Board Of Abhyudaya Cooperative Bank For One Year Over Poor Governance\\nSatya Prakash Pathak, former Chief General Manager of State Bank of India, is the \\'Administrator\\' to manage the affairs of the Mumbai-based bank during the one-year period, the Reserve Bank of India (RBI) said.\\n Refer To Verdict On Assent to Bills: Supreme Court To Kerala Governor\\'s Office\\nThe Supreme Court on Friday asked the additional chief secretary of Kerala Governor Arif Mohammed Khan to refer to its recent verdict in Punjab\\'s case where it was held governors cannot \"thwart the normal course of lawmaking\".\\n India-European Union Sign Pact On Semiconductors Ahead Of Key Trade Meet\\nAn India-EU Memorandum of Understanding (MoU) on semiconductors was signed on Friday, ahead of the Trade and Technology Council meeting in New Delhi, according to the Ministry of External Affairs press release.\\n'}]"
      ]
     },
     "execution_count": 7,
     "metadata": {},
     "output_type": "execute_result"
    }
   ],
   "source": [
    "search_tool = TavilySearchResults(max_results=2)\n",
    "search_tool.invoke(\"what is latest news of todays from india\")"
   ]
  },
  {
   "cell_type": "code",
   "execution_count": 8,
   "metadata": {},
   "outputs": [],
   "source": [
    "### 1.3 Sql Agent tool design \n",
    "from langchain_community.utilities import SQLDatabase\n",
    "from langchain.chains import create_sql_query_chain\n",
    "from langchain_community.tools.sql_database.tool import QuerySQLDataBaseTool\n",
    "from langchain_core.output_parsers import StrOutputParser\n",
    "from langchain_core.runnables import RunnablePassthrough\n",
    "from operator import itemgetter\n",
    "from langchain_openai import ChatOpenAI\n",
    "from langchain_core.prompts import PromptTemplate"
   ]
  },
  {
   "cell_type": "markdown",
   "metadata": {},
   "source": [
    "# SQL AGent chain"
   ]
  },
  {
   "cell_type": "code",
   "execution_count": 9,
   "metadata": {},
   "outputs": [],
   "source": [
    "sqldb_directory = here(\"../data/Chinook.db\")\n",
    "\n",
    "sql_llm = ChatOpenAI(model=\"gpt-3.5-turbo\",temperature = 0)"
   ]
  },
  {
   "cell_type": "code",
   "execution_count": 10,
   "metadata": {},
   "outputs": [],
   "source": [
    "system_role = \"\"\"Given the following user question, corresponding SQL query, and SQL result, answer the user question.\\n\n",
    "    Question: {question}\\n\n",
    "    SQL Query: {query}\\n\n",
    "    SQL Result: {result}\\n\n",
    "    Answer:\n",
    "    \"\"\""
   ]
  },
  {
   "cell_type": "code",
   "execution_count": 11,
   "metadata": {},
   "outputs": [],
   "source": [
    "sqldb_directory = \"/media/brainwired/D/BW_ML/01_AUG_FARM_TEST/study/01_pdf_mysql_ai_agent/RAG_AGENT_FOR_QA_FROM_STRUCTURAL_UNSTRUCTURAL_DATA/data/Chinook.db\"\n",
    "\n",
    "db = SQLDatabase.from_uri(f\"sqlite:///{sqldb_directory}\")\n",
    "\n",
    "excute_query = QuerySQLDataBaseTool(db=db)\n",
    "\n",
    "write_query = create_sql_query_chain(sql_llm,db)\n",
    "\n",
    "answere_prompt = PromptTemplate.from_template(system_role)\n",
    "\n",
    "answere = answere_prompt |sql_llm| StrOutputParser()\n",
    "\n",
    "\n",
    "chain = (RunnablePassthrough.assign(\n",
    "    query=write_query).assign(result=itemgetter(\"query\")| excute_query) |answere\n",
    "    )\n"
   ]
  },
  {
   "cell_type": "code",
   "execution_count": 12,
   "metadata": {},
   "outputs": [
    {
     "data": {
      "text/plain": [
       "'[(1, \\'For Those About To Rock We Salute You\\', 1), (2, \\'Balls to the Wall\\', 2), (3, \\'Restless and Wild\\', 2), (4, \\'Let There Be Rock\\', 1), (5, \\'Big Ones\\', 3), (6, \\'Jagged Little Pill\\', 4), (7, \\'Facelift\\', 5), (8, \\'Warner 25 Anos\\', 6), (9, \\'Plays Metallica By Four Cellos\\', 7), (10, \\'Audioslave\\', 8), (11, \\'Out Of Exile\\', 8), (12, \\'BackBeat Soundtrack\\', 9), (13, \\'The Best Of Billy Cobham\\', 10), (14, \\'Alcohol Fueled Brewtality Live! [Disc 1]\\', 11), (15, \\'Alcohol Fueled Brewtality Live! [Disc 2]\\', 11), (16, \\'Black Sabbath\\', 12), (17, \\'Black Sabbath Vol. 4 (Remaster)\\', 12), (18, \\'Body Count\\', 13), (19, \\'Chemical Wedding\\', 14), (20, \\'The Best Of Buddy Guy - The Millenium Collection\\', 15), (21, \\'Prenda Minha\\', 16), (22, \\'Sozinho Remix Ao Vivo\\', 16), (23, \\'Minha Historia\\', 17), (24, \\'Afrociberdelia\\', 18), (25, \\'Da Lama Ao Caos\\', 18), (26, \\'Acústico MTV [Live]\\', 19), (27, \\'Cidade Negra - Hits\\', 19), (28, \\'Na Pista\\', 20), (29, \\'Axé Bahia 2001\\', 21), (30, \\'BBC Sessions [Disc 1] [Live]\\', 22), (31, \\'Bongo Fury\\', 23), (32, \\'Carnaval 2001\\', 21), (33, \\'Chill: Brazil (Disc 1)\\', 24), (34, \\'Chill: Brazil (Disc 2)\\', 6), (35, \\'Garage Inc. (Disc 1)\\', 50), (36, \\'Greatest Hits II\\', 51), (37, \\'Greatest Kiss\\', 52), (38, \\'Heart of the Night\\', 53), (39, \\'International Superhits\\', 54), (40, \\'Into The Light\\', 55), (41, \\'Meus Momentos\\', 56), (42, \\'Minha História\\', 57), (43, \\'MK III The Final Concerts [Disc 1]\\', 58), (44, \\'Physical Graffiti [Disc 1]\\', 22), (45, \\'Sambas De Enredo 2001\\', 21), (46, \\'Supernatural\\', 59), (47, \\'The Best of Ed Motta\\', 37), (48, \\'The Essential Miles Davis [Disc 1]\\', 68), (49, \\'The Essential Miles Davis [Disc 2]\\', 68), (50, \\'The Final Concerts (Disc 2)\\', 58), (51, \"Up An\\' Atom\", 69), (52, \\'Vinícius De Moraes - Sem Limite\\', 70), (53, \\'Vozes do MPB\\', 21), (54, \\'Chronicle, Vol. 1\\', 76), (55, \\'Chronicle, Vol. 2\\', 76), (56, \\'Cássia Eller - Coleção Sem Limite [Disc 2]\\', 77), (57, \\'Cássia Eller - Sem Limite [Disc 1]\\', 77), (58, \\'Come Taste The Band\\', 58), (59, \\'Deep Purple In Rock\\', 58), (60, \\'Fireball\\', 58), (61, \"Knocking at Your Back Door: The Best Of Deep Purple in the 80\\'s\", 58), (62, \\'Machine Head\\', 58), (63, \\'Purpendicular\\', 58), (64, \\'Slaves And Masters\\', 58), (65, \\'Stormbringer\\', 58), (66, \\'The Battle Rages On\\', 58), (67, \"Vault: Def Leppard\\'s Greatest Hits\", 78), (68, \\'Outbreak\\', 79), (69, \\'Djavan Ao Vivo - Vol. 02\\', 80), (70, \\'Djavan Ao Vivo - Vol. 1\\', 80), (71, \\'Elis Regina-Minha História\\', 41), (72, \\'The Cream Of Clapton\\', 81), (73, \\'Unplugged\\', 81), (74, \\'Album Of The Year\\', 82), (75, \\'Angel Dust\\', 82), (76, \\'King For A Day Fool For A Lifetime\\', 82), (77, \\'The Real Thing\\', 82), (78, \\'Deixa Entrar\\', 83), (79, \\'In Your Honor [Disc 1]\\', 84), (80, \\'In Your Honor [Disc 2]\\', 84), (81, \\'One By One\\', 84), (82, \\'The Colour And The Shape\\', 84), (83, \\'My Way: The Best Of Frank Sinatra [Disc 1]\\', 85), (84, \\'Roda De Funk\\', 86), (85, \\'As Canções de Eu Tu Eles\\', 27), (86, \\'Quanta Gente Veio Ver (Live)\\', 27), (87, \\'Quanta Gente Veio ver--Bônus De Carnaval\\', 27), (88, \\'Faceless\\', 87), (89, \\'American Idiot\\', 54), (90, \\'Appetite for Destruction\\', 88), (91, \\'Use Your Illusion I\\', 88), (92, \\'Use Your Illusion II\\', 88), (93, \\'Blue Moods\\', 89), (94, \\'A Matter of Life and Death\\', 90), (95, \\'A Real Dead One\\', 90), (96, \\'A Real Live One\\', 90), (97, \\'Brave New World\\', 90), (98, \\'Dance Of Death\\', 90), (99, \\'Fear Of The Dark\\', 90), (100, \\'Iron Maiden\\', 90), (101, \\'Killers\\', 90), (102, \\'Live After Death\\', 90), (103, \\'Live At Donington 1992 (Disc 1)\\', 90), (104, \\'Live At Donington 1992 (Disc 2)\\', 90), (105, \\'No Prayer For The Dying\\', 90), (106, \\'Piece Of Mind\\', 90), (107, \\'Powerslave\\', 90), (108, \\'Rock In Rio [CD1]\\', 90), (109, \\'Rock In Rio [CD2]\\', 90), (110, \\'Seventh Son of a Seventh Son\\', 90), (111, \\'Somewhere in Time\\', 90), (112, \\'The Number of The Beast\\', 90), (113, \\'The X Factor\\', 90), (114, \\'Virtual XI\\', 90), (115, \\'Sex Machine\\', 91), (116, \\'Emergency On Planet Earth\\', 92), (117, \\'Synkronized\\', 92), (118, \\'The Return Of The Space Cowboy\\', 92), (119, \\'Get Born\\', 93), (120, \\'Are You Experienced?\\', 94), (121, \\'Surfing with the Alien (Remastered)\\', 95), (122, \\'Jorge Ben Jor 25 Anos\\', 46), (123, \\'Jota Quest-1995\\', 96), (124, \\'Cafezinho\\', 97), (125, \\'Living After Midnight\\', 98), (126, \\'Unplugged [Live]\\', 52), (127, \\'BBC Sessions [Disc 2] [Live]\\', 22), (128, \\'Coda\\', 22), (129, \\'Houses Of The Holy\\', 22), (130, \\'In Through The Out Door\\', 22), (131, \\'IV\\', 22), (132, \\'Led Zeppelin I\\', 22), (133, \\'Led Zeppelin II\\', 22), (134, \\'Led Zeppelin III\\', 22), (135, \\'Physical Graffiti [Disc 2]\\', 22), (136, \\'Presence\\', 22), (137, \\'The Song Remains The Same (Disc 1)\\', 22), (138, \\'The Song Remains The Same (Disc 2)\\', 22), (139, \\'A TempestadeTempestade Ou O Livro Dos Dias\\', 99), (140, \\'Mais Do Mesmo\\', 99), (141, \\'Greatest Hits\\', 100), (142, \\'Lulu Santos - RCA 100 Anos De Música - Álbum 01\\', 101), (143, \\'Lulu Santos - RCA 100 Anos De Música - Álbum 02\\', 101), (144, \\'Misplaced Childhood\\', 102), (145, \\'Barulhinho Bom\\', 103), (146, \\'Seek And Shall Find: More Of The Best (1963-1981)\\', 104), (147, \\'The Best Of Men At Work\\', 105), (148, \\'Black Album\\', 50), (149, \\'Garage Inc. (Disc 2)\\', 50), (150, \"Kill \\'Em All\", 50), (151, \\'Load\\', 50), (152, \\'Master Of Puppets\\', 50), (153, \\'ReLoad\\', 50), (154, \\'Ride The Lightning\\', 50), (155, \\'St. Anger\\', 50), (156, \\'...And Justice For All\\', 50), (157, \\'Miles Ahead\\', 68), (158, \\'Milton Nascimento Ao Vivo\\', 42), (159, \\'Minas\\', 42), (160, \\'Ace Of Spades\\', 106), (161, \\'Demorou...\\', 108), (162, \\'Motley Crue Greatest Hits\\', 109), (163, \\'From The Muddy Banks Of The Wishkah [Live]\\', 110), (164, \\'Nevermind\\', 110), (165, \\'Compositores\\', 111), (166, \\'Olodum\\', 112), (167, \\'Acústico MTV\\', 113), (168, \\'Arquivo II\\', 113), (169, \\'Arquivo Os Paralamas Do Sucesso\\', 113), (170, \\'Bark at the Moon (Remastered)\\', 114), (171, \\'Blizzard of Ozz\\', 114), (172, \\'Diary of a Madman (Remastered)\\', 114), (173, \\'No More Tears (Remastered)\\', 114), (174, \\'Tribute\\', 114), (175, \\'Walking Into Clarksdale\\', 115), (176, \\'Original Soundtracks 1\\', 116), (177, \\'The Beast Live\\', 117), (178, \\'Live On Two Legs [Live]\\', 118), (179, \\'Pearl Jam\\', 118), (180, \\'Riot Act\\', 118), (181, \\'Ten\\', 118), (182, \\'Vs.\\', 118), (183, \\'Dark Side Of The Moon\\', 120), (184, \\'Os Cães Ladram Mas A Caravana Não Pára\\', 121), (185, \\'Greatest Hits I\\', 51), (186, \\'News Of The World\\', 51), (187, \\'Out Of Time\\', 122), (188, \\'Green\\', 124), (189, \\'New Adventures In Hi-Fi\\', 124), (190, \\'The Best Of R.E.M.: The IRS Years\\', 124), (191, \\'Cesta Básica\\', 125), (192, \\'Raul Seixas\\', 126), (193, \\'Blood Sugar Sex Magik\\', 127), (194, \\'By The Way\\', 127), (195, \\'Californication\\', 127), (196, \\'Retrospective I (1974-1980)\\', 128), (197, \\'Santana - As Years Go By\\', 59), (198, \\'Santana Live\\', 59), (199, \\'Maquinarama\\', 130), (200, \\'O Samba Poconé\\', 130), (201, \\'Judas 0: B-Sides and Rarities\\', 131), (202, \\'Rotten Apples: Greatest Hits\\', 131), (203, \\'A-Sides\\', 132), (204, \\'Morning Dance\\', 53), (205, \\'In Step\\', 133), (206, \\'Core\\', 134), (207, \\'Mezmerize\\', 135), (208, \\'[1997] Black Light Syndrome\\', 136), (209, \\'Live [Disc 1]\\', 137), (210, \\'Live [Disc 2]\\', 137), (211, \\'The Singles\\', 138), (212, \\'Beyond Good And Evil\\', 139), (213, \\'Pure Cult: The Best Of The Cult (For Rockers, Ravers, Lovers & Sinners) [UK]\\', 139), (214, \\'The Doors\\', 140), (215, \\'The Police Greatest Hits\\', 141), (216, \\'Hot Rocks, 1964-1971 (Disc 1)\\', 142), (217, \\'No Security\\', 142), (218, \\'Voodoo Lounge\\', 142), (219, \\'Tangents\\', 143), (220, \\'Transmission\\', 143), (221, \\'My Generation - The Very Best Of The Who\\', 144), (222, \\'Serie Sem Limite (Disc 1)\\', 145), (223, \\'Serie Sem Limite (Disc 2)\\', 145), (224, \\'Acústico\\', 146), (225, \\'Volume Dois\\', 146), (226, \\'Battlestar Galactica: The Story So Far\\', 147), (227, \\'Battlestar Galactica, Season 3\\', 147), (228, \\'Heroes, Season 1\\', 148), (229, \\'Lost, Season 3\\', 149), (230, \\'Lost, Season 1\\', 149), (231, \\'Lost, Season 2\\', 149), (232, \\'Achtung Baby\\', 150), (233, \"All That You Can\\'t Leave Behind\", 150), (234, \\'B-Sides 1980-1990\\', 150), (235, \\'How To Dismantle An Atomic Bomb\\', 150), (236, \\'Pop\\', 150), (237, \\'Rattle And Hum\\', 150), (238, \\'The Best Of 1980-1990\\', 150), (239, \\'War\\', 150), (240, \\'Zooropa\\', 150), (241, \\'UB40 The Best Of - Volume Two [UK]\\', 151), (242, \\'Diver Down\\', 152), (243, \\'The Best Of Van Halen, Vol. I\\', 152), (244, \\'Van Halen\\', 152), (245, \\'Van Halen III\\', 152), (246, \\'Contraband\\', 153), (247, \\'Vinicius De Moraes\\', 72), (248, \\'Ao Vivo [IMPORT]\\', 155), (249, \\'The Office, Season 1\\', 156), (250, \\'The Office, Season 2\\', 156), (251, \\'The Office, Season 3\\', 156), (252, \\'Un-Led-Ed\\', 157), (253, \\'Battlestar Galactica (Classic), Season 1\\', 158), (254, \\'Aquaman\\', 159), (255, \\'Instant Karma: The Amnesty International Campaign to Save Darfur\\', 150), (256, \\'Speak of the Devil\\', 114), (257, \\'20th Century Masters - The Millennium Collection: The Best of Scorpions\\', 179), (258, \\'House of Pain\\', 180), (259, \\'Radio Brasil (O Som da Jovem Vanguarda) - Seleccao de Henrique Amaro\\', 36), (260, \\'Cake: B-Sides and Rarities\\', 196), (261, \\'LOST, Season 4\\', 149), (262, \\'Quiet Songs\\', 197), (263, \\'Muso Ko\\', 198), (264, \\'Realize\\', 199), (265, \\'Every Kind of Light\\', 200), (266, \\'Duos II\\', 201), (267, \\'Worlds\\', 202), (268, \\'The Best of Beethoven\\', 203), (269, \\'Temple of the Dog\\', 204), (270, \\'Carry On\\', 205), (271, \\'Revelations\\', 8), (272, \\'Adorate Deum: Gregorian Chant from the Proper of the Mass\\', 206), (273, \\'Allegri: Miserere\\', 207), (274, \\'Pachelbel: Canon & Gigue\\', 208), (275, \\'Vivaldi: The Four Seasons\\', 209), (276, \\'Bach: Violin Concertos\\', 210), (277, \\'Bach: Goldberg Variations\\', 211), (278, \\'Bach: The Cello Suites\\', 212), (279, \\'Handel: The Messiah (Highlights)\\', 213), (280, \\'The World of Classical Favourites\\', 214), (281, \\'Sir Neville Marriner: A Celebration\\', 215), (282, \\'Mozart: Wind Concertos\\', 216), (283, \\'Haydn: Symphonies 99 - 104\\', 217), (284, \\'Beethoven: Symhonies Nos. 5 & 6\\', 218), (285, \\'A Soprano Inspired\\', 219), (286, \\'Great Opera Choruses\\', 220), (287, \\'Wagner: Favourite Overtures\\', 221), (288, \\'Fauré: Requiem, Ravel: Pavane & Others\\', 222), (289, \\'Tchaikovsky: The Nutcracker\\', 223), (290, \\'The Last Night of the Proms\\', 224), (291, \\'Puccini: Madama Butterfly - Highlights\\', 225), (292, \\'Holst: The Planets, Op. 32 & Vaughan Williams: Fantasies\\', 226), (293, \"Pavarotti\\'s Opera Made Easy\", 227), (294, \"Great Performances - Barber\\'s Adagio and Other Romantic Favorites for Strings\", 228), (295, \\'Carmina Burana\\', 229), (296, \\'A Copland Celebration, Vol. I\\', 230), (297, \\'Bach: Toccata & Fugue in D Minor\\', 231), (298, \\'Prokofiev: Symphony No.1\\', 232), (299, \\'Scheherazade\\', 233), (300, \\'Bach: The Brandenburg Concertos\\', 234), (301, \\'Chopin: Piano Concertos Nos. 1 & 2\\', 235), (302, \\'Mascagni: Cavalleria Rusticana\\', 236), (303, \\'Sibelius: Finlandia\\', 237), (304, \\'Beethoven Piano Sonatas: Moonlight & Pastorale\\', 238), (305, \\'Great Recordings of the Century - Mahler: Das Lied von der Erde\\', 240), (306, \\'Elgar: Cello Concerto & Vaughan Williams: Fantasias\\', 241), (307, \\'Adams, John: The Chairman Dances\\', 242), (308, \"Tchaikovsky: 1812 Festival Overture, Op.49, Capriccio Italien & Beethoven: Wellington\\'s Victory\", 243), (309, \\'Palestrina: Missa Papae Marcelli & Allegri: Miserere\\', 244), (310, \\'Prokofiev: Romeo & Juliet\\', 245), (311, \\'Strauss: Waltzes\\', 226), (312, \\'Berlioz: Symphonie Fantastique\\', 245), (313, \\'Bizet: Carmen Highlights\\', 246), (314, \\'English Renaissance\\', 247), (315, \\'Handel: Music for the Royal Fireworks (Original Version 1749)\\', 208), (316, \\'Grieg: Peer Gynt Suites & Sibelius: Pelléas et Mélisande\\', 248), (317, \\'Mozart Gala: Famous Arias\\', 249), (318, \\'SCRIABIN: Vers la flamme\\', 250), (319, \\'Armada: Music from the Courts of England and Spain\\', 251), (320, \\'Mozart: Symphonies Nos. 40 & 41\\', 248), (321, \\'Back to Black\\', 252), (322, \\'Frank\\', 252), (323, \\'Carried to Dust (Bonus Track Version)\\', 253), (324, \"Beethoven: Symphony No. 6 \\'Pastoral\\' Etc.\", 254), (325, \\'Bartok: Violin & Viola Concertos\\', 255), (326, \"Mendelssohn: A Midsummer Night\\'s Dream\", 256), (327, \\'Bach: Orchestral Suites Nos. 1 - 4\\', 257), (328, \\'Charpentier: Divertissements, Airs & Concerts\\', 258), (329, \\'South American Getaway\\', 259), (330, \\'Górecki: Symphony No. 3\\', 260), (331, \\'Purcell: The Fairy Queen\\', 261), (332, \\'The Ultimate Relexation Album\\', 262), (333, \\'Purcell: Music for the Queen Mary\\', 263), (334, \\'Weill: The Seven Deadly Sins\\', 264), (335, \\'J.S. Bach: Chaconne, Suite in E Minor, Partita in E Major & Prelude, Fugue and Allegro\\', 265), (336, \\'Prokofiev: Symphony No.5 & Stravinksy: Le Sacre Du Printemps\\', 248), (337, \\'Szymanowski: Piano Works, Vol. 1\\', 266), (338, \\'Nielsen: The Six Symphonies\\', 267), (339, \"Great Recordings of the Century: Paganini\\'s 24 Caprices\", 268), (340, \"Liszt - 12 Études D\\'Execution Transcendante\", 269), (341, \\'Great Recordings of the Century - Shubert: Schwanengesang, 4 Lieder\\', 270), (342, \\'Locatelli: Concertos for Violin, Strings and Continuo, Vol. 3\\', 271), (343, \\'Respighi:Pines of Rome\\', 226), (344, \"Schubert: The Late String Quartets & String Quintet (3 CD\\'s)\", 272), (345, \"Monteverdi: L\\'Orfeo\", 273), (346, \\'Mozart: Chamber Music\\', 274), (347, \\'Koyaanisqatsi (Soundtrack from the Motion Picture)\\', 275)]'"
      ]
     },
     "execution_count": 12,
     "metadata": {},
     "output_type": "execute_result"
    }
   ],
   "source": [
    "db.run(\"SELECT * FROM aLBUM\")"
   ]
  },
  {
   "cell_type": "code",
   "execution_count": 13,
   "metadata": {},
   "outputs": [],
   "source": [
    "@tool\n",
    "def query_sqldb(query):\n",
    "    \"\"\"\n",
    "    Query the chinook Database it has the music and busines related information \n",
    "    input should be search query\n",
    "    \"\"\"\n",
    "    response = chain.invoke({'question':query})\n",
    "    return response"
   ]
  },
  {
   "cell_type": "code",
   "execution_count": 14,
   "metadata": {},
   "outputs": [
    {
     "name": "stdout",
     "output_type": "stream",
     "text": [
      "The total number of tables in the database with the name \"Album\" is 11.\n"
     ]
    }
   ],
   "source": [
    "message = \"total number of the table in databases with names thier names?\"\n",
    "response = query_sqldb.invoke(message)\n",
    "print(response)"
   ]
  },
  {
   "cell_type": "code",
   "execution_count": 15,
   "metadata": {},
   "outputs": [
    {
     "data": {
      "text/plain": [
       "'The total number of tables in the database with the name \"Album\" is 11.'"
      ]
     },
     "execution_count": 15,
     "metadata": {},
     "output_type": "execute_result"
    }
   ],
   "source": [
    "response"
   ]
  },
  {
   "cell_type": "markdown",
   "metadata": {},
   "source": [
    "Wrap the tools into list"
   ]
  },
  {
   "cell_type": "code",
   "execution_count": 16,
   "metadata": {},
   "outputs": [],
   "source": [
    "tools = [search_tool, lookup_policy, query_sqldb]"
   ]
  },
  {
   "cell_type": "code",
   "execution_count": 17,
   "metadata": {},
   "outputs": [],
   "source": [
    "# load the the LLM for primary agen and bind ot with the tools\n",
    "\n",
    "llm = ChatOpenAI(model=\"gpt-4o-mini\", temperature=0)\n",
    "# Tell the LLM which tools it can call\n",
    "llm_with_tools = llm.bind_tools(tools)"
   ]
  },
  {
   "cell_type": "markdown",
   "metadata": {},
   "source": [
    "# 2 . INITIALIZE THE GRAPH STATE\n",
    "\n",
    "THIS WILL USE DEFINE THE OUR STATEGRAPHS's STATE AS TYPED DICTIONARY CONTAINING AN APPEDN-ONLY LIST OF MESSAGE THESE MESSAGES FORM THE CHAT HISTORY WHICH IS ALL THE STATE OUR CHATBOT NEEDS"
   ]
  },
  {
   "cell_type": "code",
   "execution_count": 18,
   "metadata": {},
   "outputs": [],
   "source": [
    "from typing import Annotated\n",
    "from typing_extensions import TypedDict\n",
    "from langgraph.graph import StateGraph, START\n",
    "from langgraph.graph.message import add_messages\n",
    "\n",
    "\n",
    "class State(TypedDict):\n",
    "    messages: Annotated[list, add_messages]\n",
    "\n",
    "\n",
    "graph_builder = StateGraph(State)"
   ]
  },
  {
   "cell_type": "markdown",
   "metadata": {},
   "source": [
    "# define the Graph Nodes"
   ]
  },
  {
   "cell_type": "markdown",
   "metadata": {},
   "source": [
    "#### 3.1 First node :chatbot"
   ]
  },
  {
   "cell_type": "code",
   "execution_count": 19,
   "metadata": {},
   "outputs": [],
   "source": [
    "def chatbot(state: State):\n",
    "    return {\"messages\": [llm_with_tools.invoke(state[\"messages\"])]}\n",
    "\n",
    "\n",
    "graph_builder.add_node(\"chatbot\", chatbot)"
   ]
  },
  {
   "cell_type": "markdown",
   "metadata": {},
   "source": [
    "Next, we need to create a function that will run the tools when they are needed. To do this, we'll add the tools to a new node.\n",
    "\n",
    "In the example below, we'll build a BasicToolNode. This node will check the latest message and, if it contains a request to use a tool, it will run the appropriate tool. This works because many language models (like Anthropic, OpenAI, and Google Gemini) support tool usage."
   ]
  },
  {
   "cell_type": "markdown",
   "metadata": {},
   "source": [
    "#### 3.2 Second node: BasicToolNode that runs the appropriate tool based on the primary agent's output"
   ]
  },
  {
   "cell_type": "code",
   "execution_count": 20,
   "metadata": {},
   "outputs": [],
   "source": [
    "import json\n",
    "from langchain_core.messages import ToolMessage\n",
    "\n",
    "\n",
    "class BasicToolNode:\n",
    "    \"\"\"A node that runs the tools requested in the last AIMessage.\"\"\"\n",
    "\n",
    "    def __init__(self, tools: list) -> None:\n",
    "        self.tools_by_name = {tool.name: tool for tool in tools}\n",
    "\n",
    "    def __call__(self, inputs: dict):\n",
    "        if messages := inputs.get(\"messages\", []):\n",
    "            message = messages[-1]\n",
    "        else:\n",
    "            raise ValueError(\"No message found in input\")\n",
    "        outputs = []\n",
    "        for tool_call in message.tool_calls:\n",
    "            tool_result = self.tools_by_name[tool_call[\"name\"]].invoke(\n",
    "                tool_call[\"args\"]\n",
    "            )\n",
    "            outputs.append(\n",
    "                ToolMessage(\n",
    "                    content=json.dumps(tool_result),\n",
    "                    name=tool_call[\"name\"],\n",
    "                    tool_call_id=tool_call[\"id\"],\n",
    "                )\n",
    "            )\n",
    "        return {\"messages\": outputs}\n",
    "\n",
    "\n",
    "tool_node = BasicToolNode(tools=[search_tool, lookup_policy, query_sqldb])\n",
    "graph_builder.add_node(\"tools\", tool_node)"
   ]
  },
  {
   "cell_type": "markdown",
   "metadata": {},
   "source": [
    "4. Define the entry point and graph edges"
   ]
  },
  {
   "cell_type": "markdown",
   "metadata": {},
   "source": [
    "#### approch 1"
   ]
  },
  {
   "cell_type": "code",
   "execution_count": 21,
   "metadata": {},
   "outputs": [],
   "source": [
    "# from typing import Literal\n",
    "\n",
    "\n",
    "# def route_tools(\n",
    "\n",
    "#     state: State,\n",
    "# ) -> Literal[\"tools\", \"__end__\"]:\n",
    "#     \"\"\"\n",
    "#     Use in the conditional_edge to route to the ToolNode if the last message\n",
    "#     has tool calls. Otherwise, route to the end.\n",
    "#     \"\"\"\n",
    "#     if isinstance(state, list):\n",
    "#         ai_message = state[-1]\n",
    "#     elif messages := state.get(\"messages\", []):\n",
    "#         ai_message = messages[-1]\n",
    "#     else:\n",
    "#         raise ValueError(f\"No messages found in input state to tool_edge: {state}\")\n",
    "#     if hasattr(ai_message, \"tool_calls\") and len(ai_message.tool_calls) > 0:\n",
    "#         return \"tools\"\n",
    "#     return \"__end__\"\n",
    "\n",
    "\n",
    "# # The `tools_condition` function returns \"tools\" if the chatbot asks to use a tool, and \"__end__\" if\n",
    "# # it is fine directly responding. This conditional routing defines the main agent loop.\n",
    "# graph_builder.add_conditional_edges(\n",
    "#     \"chatbot\",\n",
    "#     route_tools,\n",
    "#     # The following dictionary lets you tell the graph to interpret the condition's outputs as a specific node\n",
    "#     # It defaults to the identity function, but if you\n",
    "#     # want to use a node named something else apart from \"tools\",\n",
    "#     # You can update the value of the dictionary to something else\n",
    "#     # e.g., \"tools\": \"my_tools\"\n",
    "#     {\"tools\": \"tools\", \"__end__\": \"__end__\"},\n",
    "# )\n",
    "# # Any time a tool is called, we return to the chatbot to decide the next step\n",
    "# graph_builder.add_edge(\"tools\", \"chatbot\")\n",
    "# graph_builder.add_edge(START, \"chatbot\")"
   ]
  },
  {
   "cell_type": "markdown",
   "metadata": {},
   "source": [
    "Approach 2"
   ]
  },
  {
   "cell_type": "code",
   "execution_count": 22,
   "metadata": {},
   "outputs": [],
   "source": [
    "from langgraph.graph import END, MessagesState\n",
    "from typing import Literal\n",
    "\n",
    "# Define the function that determines whether to continue or not\n",
    "def should_continue(state: MessagesState) -> Literal[\"tools\", END]:\n",
    "    messages = state['messages']\n",
    "    last_message = messages[-1]\n",
    "    # If the LLM makes a tool call, then we route to the \"tools\" node\n",
    "    if last_message.tool_calls:\n",
    "        return \"tools\"\n",
    "    # Otherwise, we stop (reply to the user)\n",
    "    return END\n",
    "\n",
    "graph_builder.add_conditional_edges(\n",
    "    \"chatbot\",\n",
    "    should_continue,\n",
    "    [\"tools\", END],\n",
    ")\n",
    "# Any time a tool is called, we return to the chatbot to decide the next step\n",
    "graph_builder.add_edge(\"tools\", \"chatbot\")\n",
    "graph_builder.add_edge(START, \"chatbot\")"
   ]
  },
  {
   "cell_type": "markdown",
   "metadata": {},
   "source": [
    "## 5. Compile the graph\n",
    "\n",
    "In this step, we can add a memory to our graph as well."
   ]
  },
  {
   "cell_type": "code",
   "execution_count": 23,
   "metadata": {},
   "outputs": [],
   "source": [
    "from langgraph.checkpoint.memory import MemorySaver\n",
    "\n",
    "memory = MemorySaver()\n",
    "graph = graph_builder.compile(checkpointer=memory)"
   ]
  },
  {
   "cell_type": "markdown",
   "metadata": {},
   "source": [
    "### 5.1 Plot the compiled graph"
   ]
  },
  {
   "cell_type": "code",
   "execution_count": 24,
   "metadata": {},
   "outputs": [
    {
     "data": {
      "image/png": "[encoded data removed]",
      "text/plain": [
       "<IPython.core.display.Image object>"
      ]
     },
     "metadata": {},
     "output_type": "display_data"
    }
   ],
   "source": [
    "from IPython.display import Image, display\n",
    "\n",
    "try:\n",
    "    display(Image(graph.get_graph().draw_mermaid_png()))\n",
    "except Exception:\n",
    "    # This requires some extra dependencies and is optional\n",
    "    pass"
   ]
  },
  {
   "cell_type": "code",
   "execution_count": 25,
   "metadata": {},
   "outputs": [],
   "source": [
    "save = False\n",
    "\n",
    "if save:\n",
    "    from PIL import Image as PILImage\n",
    "    import io\n",
    "    # Assuming graph.get_graph().draw_mermaid_png() returns PNG binary data\n",
    "    try:\n",
    "        # Generate the PNG image from the graph\n",
    "        png_data = graph.get_graph().draw_mermaid_png()\n",
    "        \n",
    "        # Convert the binary data into an image\n",
    "        img = PILImage.open(io.BytesIO(png_data))\n",
    "        \n",
    "        # Save the image locally with 300 DPI\n",
    "        img.save('output_image.png', 'PNG', dpi=(300, 300))\n",
    "        \n",
    "        print(\"Image saved successfully with 300 DPI.\")\n",
    "    except Exception as e:\n",
    "        print(f\"Error: {e}\")"
   ]
  },
  {
   "cell_type": "markdown",
   "metadata": {},
   "source": [
    "## 6. Execute the graph"
   ]
  },
  {
   "cell_type": "code",
   "execution_count": 26,
   "metadata": {},
   "outputs": [],
   "source": [
    "config = {\"configurable\": {\"thread_id\": \"1\"}}\n"
   ]
  },
  {
   "cell_type": "markdown",
   "metadata": {},
   "source": [
    "#### Approach 1: Print all the steps the the system goes through ti get the final output"
   ]
  },
  {
   "cell_type": "code",
   "execution_count": 27,
   "metadata": {},
   "outputs": [
    {
     "name": "stdout",
     "output_type": "stream",
     "text": [
      "================================\u001b[1m Human Message \u001b[0m=================================\n",
      "\n",
      "Hi there! My name is Farzad.\n",
      "==================================\u001b[1m Ai Message \u001b[0m==================================\n",
      "\n",
      "Hello Farzad! How can I assist you today?\n"
     ]
    }
   ],
   "source": [
    "user_input = \"Hi there! My name is Farzad.\"\n",
    "\n",
    "# The config is the **second positional argument** to stream() or invoke()!\n",
    "events = graph.stream(\n",
    "    {\"messages\": [(\"user\", user_input)]}, config, stream_mode=\"values\"\n",
    ")\n",
    "for event in events:\n",
    "    event[\"messages\"][-1].pretty_print()"
   ]
  },
  {
   "cell_type": "code",
   "execution_count": 28,
   "metadata": {},
   "outputs": [
    {
     "data": {
      "text/plain": [
       "'Hello again, Farzad! How can I help you today?'"
      ]
     },
     "execution_count": 28,
     "metadata": {},
     "output_type": "execute_result"
    }
   ],
   "source": [
    "from langchain_core.messages import HumanMessage\n",
    "user_input = \"Hi there! My name is Farzad.\"\n",
    "\n",
    "# Use the Runnable\n",
    "final_state = graph.invoke(\n",
    "    {\"messages\": [HumanMessage(content=user_input)]},\n",
    "    config=config\n",
    ")\n",
    "final_state[\"messages\"][-1].content"
   ]
  },
  {
   "cell_type": "code",
   "execution_count": 29,
   "metadata": {},
   "outputs": [
    {
     "name": "stdout",
     "output_type": "stream",
     "text": [
      "================================\u001b[1m Human Message \u001b[0m=================================\n",
      "\n",
      "Can I cancel my ticket 10 hours before the flight answere me very specific?\n",
      "==================================\u001b[1m Ai Message \u001b[0m==================================\n",
      "Tool Calls:\n",
      "  lookup_policy (call_7UKpdbMZcnILJXs6ynatMHYh)\n",
      " Call ID: call_7UKpdbMZcnILJXs6ynatMHYh\n",
      "  Args:\n",
      "    query: ticket cancellation policy 10 hours before flight\n",
      "=================================\u001b[1m Tool Message \u001b[0m=================================\n",
      "Name: lookup_policy\n",
      "\n",
      "\"hour cancellation policy that allows passengers to cancel their flights within 24 hours of booking at +1-877-507-7341\\nwithout penalty. This policy applies to all fare types, including non-refundable tickets. If you cancel your Swiss Airlines\\nflight within 24 hours of booking, you'll receive a full refund of your ticket price.\\nHow to Cancel Swiss Airlines Flight within 24 Hours? If you need to cancel your Swiss Airlines flight within 24 hours of\\nbooking, you can do so easily online. Here are the steps to follow:\\nGo to Swiss Airlines' website and click on the \\\"Manage your bookings\\\" tab. Enter your booking reference number and last\\nname to access your booking. Select the flight you want to cancel and click on \\\"Cancel flight.\\\" Confirm your cancellation\\nand you'll receive a full refund of your ticket price. If you booked your Swiss Airlines flight through a travel agent, you'll\\nneed to contact them directly to cancel your flight within 24 hours.\\nImportant Things to Keep in Mind for Swiss Airlines 24 Hour Cancellation Here are some important things to keep in mind\\nwhen cancelling your Swiss Airlines flight within 24 hours:\\nSwiss Airlines' 24 hour cancellation policy only applies to flights booked directly through Swiss Airlines. If you booked\\nyour flight through a travel agent or third-party website, you'll need to check their cancellation policy. If you cancel your\\nSwiss Airlines flight after the 24 hour window, you may be subject to cancellation fees or penalties. If you have a non-\\nrefundable ticket and cancel your flight within 24 hours of booking, you'll receive a full refund of your ticket price.\\nHowever, if you cancel your flight after the 24 hour window, you may not be eligible for a refund. Swiss Airlines' 24 hour\\ncancellation policy allows passengers to cancel their flights within 24 hours of booking without penalty. If you need to\\ncancel your Swiss Airlines flight within 24 hours, you can do so easily online. Just remember to check the terms and\\nconditions of your ticket to make sure you're eligible for a refund.\\nSwiss Air Cancellation Fees The cancellation fees for Swiss Air flights may vary depending on the type of ticket you have\\npurchased. The airline offers three different types of tickets, which are:\\nFlex Ticket - This ticket offers the most flexibility and allows passengers to make changes or cancel their flight without\\n\\nfor a refund or may only be able to receive a partial refund. If you booked your flight through a third-party website or\\ntravel agent, you may need to contact them directly to cancel your flight. Always check the terms and conditions of your\\nticket to make sure you understand the cancellation policy and any associated fees or penalties. If you're cancelling your\\nflight due to unforeseen circumstances such as a medical emergency or a natural disaster, Swiss Air may offer you\\nspecial exemptions or accommodations. What is Swiss Airlines 24 Hour Cancellation Policy? Swiss Airlines has a 24\"\n",
      "==================================\u001b[1m Ai Message \u001b[0m==================================\n",
      "\n",
      "The ability to cancel your ticket 10 hours before a flight depends on the airline's specific cancellation policy. Generally, many airlines allow cancellations within 24 hours of booking without penalty, but if you're looking to cancel a ticket just 10 hours before the flight, it may be subject to cancellation fees or may not be eligible for a refund, especially if it's a non-refundable ticket.\n",
      "\n",
      "For Swiss Airlines, if you cancel your flight after the 24-hour window, you may incur cancellation fees or may not receive a refund at all. It's important to check the terms and conditions of your specific ticket and contact the airline directly for the most accurate information regarding your situation.\n",
      "\n",
      "If you need further assistance or have a specific airline in mind, please let me know!\n"
     ]
    }
   ],
   "source": [
    "user_input = \"Can I cancel my ticket 10 hours before the flight answere me very specific?\"\n",
    "\n",
    "events = graph.stream(\n",
    "    {\"messages\": [(\"user\", user_input)]}, config, stream_mode=\"values\"\n",
    ")\n",
    "for event in events:\n",
    "    event[\"messages\"][-1].pretty_print()"
   ]
  },
  {
   "cell_type": "code",
   "execution_count": 30,
   "metadata": {},
   "outputs": [
    {
     "name": "stdout",
     "output_type": "stream",
     "text": [
      "================================\u001b[1m Human Message \u001b[0m=================================\n",
      "\n",
      "Right now Harris vs. Trump Presidential Debate is being boradcasted. I want the youtube link to this debate\n",
      "==================================\u001b[1m Ai Message \u001b[0m==================================\n",
      "Tool Calls:\n",
      "  tavily_search_results_json (call_1nIxAvJEHOFQOM8wgDmL9jCr)\n",
      " Call ID: call_1nIxAvJEHOFQOM8wgDmL9jCr\n",
      "  Args:\n",
      "    query: Harris vs Trump Presidential Debate YouTube link\n",
      "=================================\u001b[1m Tool Message \u001b[0m=================================\n",
      "Name: tavily_search_results_json\n",
      "\n",
      "[{\"url\": \"https://www.youtube.com/live/VgsC_aBquUE\", \"content\": \"Watch live coverage as Vice President Kamala Harris and former President Donald Trump face off in their first presidential debate in Philadelphia.Follow live\"}, {\"url\": \"https://www.youtube.com/watch?v=kRh6598RmHM\", \"content\": \"#election #election2024 #donaldtrump #kamalaharris #abcnews President Donald Trump and Vice President Kamala Harris are set to face off in their first debate\"}]\n",
      "==================================\u001b[1m Ai Message \u001b[0m==================================\n",
      "\n",
      "You can watch the Harris vs. Trump Presidential Debate on YouTube using the following links:\n",
      "\n",
      "1. [Watch live coverage here](https://www.youtube.com/live/VgsC_aBquUE)\n",
      "2. [Debate highlights and coverage](https://www.youtube.com/watch?v=kRh6598RmHM)\n",
      "\n",
      "Feel free to check them out!\n"
     ]
    }
   ],
   "source": [
    "user_input = \"Right now Harris vs. Trump Presidential Debate is being boradcasted. I want the youtube link to this debate\"\n",
    "\n",
    "events = graph.stream(\n",
    "    {\"messages\": [(\"user\", user_input)]}, config, stream_mode=\"values\"\n",
    ")\n",
    "for event in events:\n",
    "    event[\"messages\"][-1].pretty_print()"
   ]
  },
  {
   "cell_type": "code",
   "execution_count": null,
   "metadata": {},
   "outputs": [],
   "source": []
  },
  {
   "cell_type": "markdown",
   "metadata": {},
   "source": []
  }
 ],
 "metadata": {
  "kernelspec": {
   "display_name": "botenv",
   "language": "python",
   "name": "python3"
  },
  "language_info": {
   "codemirror_mode": {
    "name": "ipython",
    "version": 3
   },
   "file_extension": ".py",
   "mimetype": "text/x-python",
   "name": "python",
   "nbconvert_exporter": "python",
   "pygments_lexer": "ipython3",
   "version": "3.12.3"
  }
 },
 "nbformat": 4,
 "nbformat_minor": 2
}
