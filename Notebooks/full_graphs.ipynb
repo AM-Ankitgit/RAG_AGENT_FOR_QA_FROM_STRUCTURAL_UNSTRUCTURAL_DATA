{
 "cells": [
  {
   "cell_type": "code",
   "execution_count": 1,
   "metadata": {},
   "outputs": [
    {
     "data": {
      "text/plain": [
       "True"
      ]
     },
     "execution_count": 1,
     "metadata": {},
     "output_type": "execute_result"
    }
   ],
   "source": [
    "# design the full graph for integration of 3 different tools\n",
    "import os\n",
    "from dotenv import load_dotenv\n",
    "from pyprojroot import here\n",
    "\n",
    "load_dotenv()"
   ]
  },
  {
   "cell_type": "markdown",
   "metadata": {},
   "source": [
    "Set the environment variables"
   ]
  },
  {
   "cell_type": "code",
   "execution_count": 2,
   "metadata": {},
   "outputs": [],
   "source": [
    "os.environ['OPENAI_API_KEY'] = os.getenv(\"OPENAI_API_KEY\")\n",
    "os.environ['TAVILY_API_KEY'] = os.getenv(\"TAVILY_API_KEY\")"
   ]
  },
  {
   "cell_type": "markdown",
   "metadata": {},
   "source": [
    "# Initialize the tools"
   ]
  },
  {
   "cell_type": "markdown",
   "metadata": {},
   "source": [
    "### 1.1 Rag Tool Design for unstructured data"
   ]
  },
  {
   "cell_type": "code",
   "execution_count": 3,
   "metadata": {},
   "outputs": [
    {
     "name": "stdout",
     "output_type": "stream",
     "text": [
      "name='lookup_policy' description='Consult the company policies to check whether certain options are permitted.' args_schema=<class 'langchain_core.utils.pydantic.lookup_policy'> func=<function lookup_policy at 0x763f1410b2e0>\n"
     ]
    }
   ],
   "source": [
    "from langchain_chroma import Chroma\n",
    "from langchain_openai import OpenAIEmbeddings\n",
    "from langchain_core.tools import tool\n",
    "\n",
    "EMBEDDING_MODEL = \"text-embedding-3-small\"\n",
    "VECTORDB_DIR = \"data/airline_policy_vectordb\"\n",
    "K = 2\n",
    "\n",
    "@tool\n",
    "def lookup_policy(query: str)->str:\n",
    "    \"\"\"Consult the company policies to check whether certain options are permitted.\"\"\"\n",
    "    vectordb = Chroma(\n",
    "    collection_name=\"rag-chroma\",\n",
    "    persist_directory=str(here(VECTORDB_DIR)),\n",
    "    embedding_function=OpenAIEmbeddings(model=EMBEDDING_MODEL)\n",
    "    )\n",
    "    docs = vectordb.similarity_search(query, k=K)\n",
    "    return \"\\n\\n\".join([doc.page_content for doc in docs])\n",
    "\n",
    "print(lookup_policy)"
   ]
  },
  {
   "cell_type": "code",
   "execution_count": 4,
   "metadata": {},
   "outputs": [
    {
     "name": "stdout",
     "output_type": "stream",
     "text": [
      "Number of vectors in vectordb: 22 \n",
      "\n",
      "\n"
     ]
    }
   ],
   "source": [
    "VECTORDB_DIR = \"data/airline_policy_vectordb\"\n",
    "K=2\n",
    "\n",
    "vectordb = Chroma(\n",
    "    collection_name=\"rag-chroma\",\n",
    "    persist_directory=str(here(VECTORDB_DIR)),\n",
    "    embedding_function=EMBEDDING_MODEL\n",
    ")\n",
    "print(\"Number of vectors in vectordb:\",\n",
    "      vectordb._collection.count(), \"\\n\\n\")\n"
   ]
  },
  {
   "cell_type": "code",
   "execution_count": 5,
   "metadata": {},
   "outputs": [
    {
     "data": {
      "text/plain": [
       "\"conditions of your ticket to make sure you're eligible for a refund.\\nSwiss Air Cancellation Fees The cancellation fees for Swiss Air flights may vary depending on the type of ticket you have\\npurchased. The airline offers three different types of tickets, which are:\\nFlex Ticket - This ticket offers the most flexibility and allows passengers to make changes or cancel their flight without\\nincurring any additional fees. Standard Ticket - This ticket offers some flexibility but charges a fee for changes and\\ncancellations. The fee for cancelling a standard ticket can range from 100 to 250 CHF, depending on the route and time\\nof cancellation. Economy Ticket - This ticket offers the least flexibility and charges a fee for any changes or cancellations.\\nThe fee for cancelling an economy ticket can range from 150 to 350 CHF, depending on the route and time of\\ncancellation. It is important to note that the fees listed above are subject to change and may vary depending on the\\nspecific ticket you have purchased. Additionally, if you have purchased any add-ons or upgrades, such as extra baggage\\nor seat selection, the fees associated with cancelling those may also apply.\\nSwiss Air Refund Policy If you cancel your Swiss Air flight, you may be eligible for a refund depending on the type of\\nticket you have purchased and the time of cancellation. Here are the details:\\nFlex Ticket - If you have purchased a Flex Ticket, you can cancel your flight without incurring any fees and receive a full\\nrefund. Standard Ticket - If you have purchased a Standard Ticket and cancel your flight within 24 hours of booking, you\\ncan receive a full refund. If you cancel your flight after 24 hours, you may be charged a cancellation fee and receive a\\npartial refund. Economy Ticket - If you have purchased an Economy Ticket and cancel your flight within 24 hours of\\nbooking, you can receive a full refund. If you cancel your flight after 24 hours, you may be charged a cancellation fee and\\n\\nfor a refund or may only be able to receive a partial refund. If you booked your flight through a third-party website or\\ntravel agent, you may need to contact them directly to cancel your flight. Always check the terms and conditions of your\\nticket to make sure you understand the cancellation policy and any associated fees or penalties. If you're cancelling your\\nflight due to unforeseen circumstances such as a medical emergency or a natural disaster, Swiss Air may offer you\\nspecial exemptions or accommodations. What is Swiss Airlines 24 Hour Cancellation Policy? Swiss Airlines has a 24\""
      ]
     },
     "execution_count": 5,
     "metadata": {},
     "output_type": "execute_result"
    }
   ],
   "source": [
    "lookup_policy.invoke(\"can I cancel my ticket?\")"
   ]
  },
  {
   "cell_type": "markdown",
   "metadata": {},
   "source": [
    "### 1.2 Search tool design"
   ]
  },
  {
   "cell_type": "code",
   "execution_count": 6,
   "metadata": {},
   "outputs": [],
   "source": [
    "from langchain_community.tools.tavily_search import TavilySearchResults"
   ]
  },
  {
   "cell_type": "code",
   "execution_count": 8,
   "metadata": {},
   "outputs": [
    {
     "data": {
      "text/plain": [
       "[{'url': 'https://timesofindia.indiatimes.com/india/timestopten.cms',\n",
       "  'content': 'With legal sand extraction unable to meet demand, illegal mining has surged, targeting riverbeds and resulting in environmental degradation and threats to human life, reports ToI. In states like Madhya Pradesh and Haryana, villagers, police officers, and government officials who oppose illegal sand mining face violent reprisals. In 2022, Haryana witnessed 12 sand mining-related attacks, including the murder of DSP Surender Singh, who was run over by a dumper truck during an illegal mining investigation, with six suspects arrested and the case still ongoing. Follow news that matters to you in real-time. A fuel tanker collided head-on with another truck in Nigeria on Sunday causing an explosion that killed at least 48 people, the country’s emergency response agency said.'},\n",
       " {'url': 'https://www.ndtv.com/india',\n",
       "  'content': 'Before Poll Panel, Sharad Pawar Camp Questions Premise Of Dispute In NCP\\nThe Sharad Pawar faction on Friday questioned before the Election Commission the very premise of the dispute in the NCP, claiming those who were part of conducting polls in the party in 2018 cannot now claim that the elections were flawed.\\n India News\\n\"4% Muslim Reservation Based On...\": Telangana Minister KT Rama Rao\\nTelangana Minister and Bharat Rashtra Samithi (BRS) MLA KT Rama Rao has said the 4 per cent Muslim reservation in the state is not on the basis of religion but on the basis of socio-economic status in the community.\\n RBI Supercedes Board Of Abhyudaya Cooperative Bank For One Year Over Poor Governance\\nSatya Prakash Pathak, former Chief General Manager of State Bank of India, is the \\'Administrator\\' to manage the affairs of the Mumbai-based bank during the one-year period, the Reserve Bank of India (RBI) said.\\n Refer To Verdict On Assent to Bills: Supreme Court To Kerala Governor\\'s Office\\nThe Supreme Court on Friday asked the additional chief secretary of Kerala Governor Arif Mohammed Khan to refer to its recent verdict in Punjab\\'s case where it was held governors cannot \"thwart the normal course of lawmaking\".\\n India-European Union Sign Pact On Semiconductors Ahead Of Key Trade Meet\\nAn India-EU Memorandum of Understanding (MoU) on semiconductors was signed on Friday, ahead of the Trade and Technology Council meeting in New Delhi, according to the Ministry of External Affairs press release.\\n'}]"
      ]
     },
     "execution_count": 8,
     "metadata": {},
     "output_type": "execute_result"
    }
   ],
   "source": [
    "search_tool = TavilySearchResults(max_results=2)\n",
    "search_tool.invoke(\"what is latest news of todays from india\")"
   ]
  },
  {
   "cell_type": "code",
   "execution_count": 9,
   "metadata": {},
   "outputs": [],
   "source": [
    "### 1.3 Sql Agent tool design \n",
    "from langchain_community.utilities import SQLDatabase\n",
    "from langchain.chains import create_sql_query_chain\n",
    "from langchain_community.tools.sql_database.tool import QuerySQLDataBaseTool\n",
    "from langchain_core.output_parsers import StrOutputParser\n",
    "from langchain_core.runnables import RunnablePassthrough\n",
    "from operator import itemgetter"
   ]
  },
  {
   "cell_type": "markdown",
   "metadata": {},
   "source": [
    "# SQL AGent chain"
   ]
  },
  {
   "cell_type": "code",
   "execution_count": null,
   "metadata": {},
   "outputs": [],
   "source": [
    "sqldb_directory = here(\"../data/Chinook.db\")\n"
   ]
  },
  {
   "cell_type": "code",
   "execution_count": null,
   "metadata": {},
   "outputs": [],
   "source": []
  },
  {
   "cell_type": "code",
   "execution_count": null,
   "metadata": {},
   "outputs": [],
   "source": []
  },
  {
   "cell_type": "code",
   "execution_count": null,
   "metadata": {},
   "outputs": [],
   "source": []
  },
  {
   "cell_type": "code",
   "execution_count": null,
   "metadata": {},
   "outputs": [],
   "source": []
  },
  {
   "cell_type": "code",
   "execution_count": null,
   "metadata": {},
   "outputs": [],
   "source": []
  },
  {
   "cell_type": "code",
   "execution_count": null,
   "metadata": {},
   "outputs": [],
   "source": []
  },
  {
   "cell_type": "code",
   "execution_count": null,
   "metadata": {},
   "outputs": [],
   "source": []
  },
  {
   "cell_type": "code",
   "execution_count": null,
   "metadata": {},
   "outputs": [],
   "source": []
  },
  {
   "cell_type": "code",
   "execution_count": null,
   "metadata": {},
   "outputs": [],
   "source": []
  },
  {
   "cell_type": "code",
   "execution_count": null,
   "metadata": {},
   "outputs": [],
   "source": []
  },
  {
   "cell_type": "code",
   "execution_count": null,
   "metadata": {},
   "outputs": [],
   "source": []
  },
  {
   "cell_type": "code",
   "execution_count": null,
   "metadata": {},
   "outputs": [],
   "source": []
  }
 ],
 "metadata": {
  "kernelspec": {
   "display_name": "botenv",
   "language": "python",
   "name": "python3"
  },
  "language_info": {
   "codemirror_mode": {
    "name": "ipython",
    "version": 3
   },
   "file_extension": ".py",
   "mimetype": "text/x-python",
   "name": "python",
   "nbconvert_exporter": "python",
   "pygments_lexer": "ipython3",
   "version": "3.12.3"
  }
 },
 "nbformat": 4,
 "nbformat_minor": 2
}
