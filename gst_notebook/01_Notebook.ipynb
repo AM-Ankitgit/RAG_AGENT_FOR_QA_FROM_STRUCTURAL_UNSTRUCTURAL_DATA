{
 "cells": [
  {
   "cell_type": "code",
   "execution_count": 5,
   "metadata": {},
   "outputs": [],
   "source": [
    "from langchain_openai import ChatOpenAI\n",
    "from dotenv import load_dotenv \n",
    "\n",
    "load_dotenv()\n",
    "\n",
    "import os\n",
    "# DEEPSEEK_API_KEY = \"sk-3938d707e5364e2f8580d5f096ba76ef\"\n",
    "# model = ChatOpenAI(\n",
    "#     model=\"deepseek-chat\", \n",
    "#     api_key=DEEPSEEK_API_KEY, \n",
    "#     base_url=\"https://api.deepseek.com\",\n",
    "\n",
    "#     temperature=0.0\n",
    "# )\n",
    "# model.invoke(\"suggest some ways to reduce my gst tax scenario[ Me and my wife have dance partnership firm  where we conduct online and offline class from 2019 to 2024 we paid around 50 laks as gst is there any way to reduce this cost ] suggest me some ways to reduce .we can do it in any way. give the very human understandable result becuase i don't have any knlowlegtool_with_llme of gst\")\n"
   ]
  },
  {
   "cell_type": "code",
   "execution_count": 6,
   "metadata": {},
   "outputs": [],
   "source": [
    "os.environ['OPENAI_API_KEY'] = os.getenv(\"OPENAI_API_KEY\")\n"
   ]
  },
  {
   "cell_type": "code",
   "execution_count": 7,
   "metadata": {},
   "outputs": [
    {
     "data": {
      "text/plain": [
       "AIMessage(content='The next number is **82**.', additional_kwargs={'refusal': None}, response_metadata={'token_usage': {'completion_tokens': 152, 'prompt_tokens': 47, 'total_tokens': 199, 'completion_tokens_details': {'accepted_prediction_tokens': 0, 'audio_tokens': 0, 'reasoning_tokens': 128, 'rejected_prediction_tokens': 0}, 'prompt_tokens_details': {'audio_tokens': 0, 'cached_tokens': 0}}, 'model_name': 'o1-mini-2024-09-12', 'system_fingerprint': 'fp_f56e40de61', 'finish_reason': 'stop', 'logprobs': None}, id='run-606d7aaa-f815-4b0e-94f3-b64d7483b738-0', usage_metadata={'input_tokens': 47, 'output_tokens': 152, 'total_tokens': 199, 'input_token_details': {'audio': 0, 'cache_read': 0}, 'output_token_details': {'audio': 0, 'reasoning': 128}})"
      ]
     },
     "execution_count": 7,
     "metadata": {},
     "output_type": "execute_result"
    }
   ],
   "source": [
    "# load the data file and perform the chunking \n",
    "\n",
    "# doc_dir = \"../data/unstructured_docs/stories/stories.pdf\"\n",
    "chunk_size = 500\n",
    "chunk_overlap = 100\n",
    "embedding_model = 'text-embedding-3-small'\n",
    "vectordb_dir = './DATA'\n",
    "collection_name = 'rag-gst'\n",
    "pdf_file_name = '../data/unstructured_docs/swiss_airline_policy/Notification12-CGST.pdf'\n",
    "llm = 'o1-mini' \n",
    "\n",
    "from pyprojroot import here\n",
    "\n",
    "# check if the vectordb file exist generated or not if not create\n",
    "\n",
    "llm = ChatOpenAI(model=llm)\n",
    "llm.invoke(\"Select the number from among the given options that can replace the question mark (?) in the following series. 28, 32, 41, 57 ?.## i want one line answere\")"
   ]
  },
  {
   "cell_type": "code",
   "execution_count": 8,
   "metadata": {},
   "outputs": [
    {
     "data": {
      "text/plain": [
       "'Reducing your GST (Goods and Services Tax) liability is essential for optimizing your business finances. Here are several strategies you can consider to potentially lower the GST you and your wife’s dance partnership firm have been paying:\\n\\n### 1. **Claim All Eligible Input Tax Credits (ITC)**\\n**What It Is:** ITC allows you to deduct the GST you’ve paid on business-related purchases and expenses from the GST you owe on your sales.\\n\\n**How to Optimize:**\\n- **Maintain Detailed Records:** Keep all your invoices, bills, and receipts organized. Ensure that every purchase that qualifies for ITC is documented.\\n- **Regular Reconciliation:** Periodically reconcile your purchase records with your GST filings to ensure you’re claiming all eligible credits.\\n- **Exclude Personal Expenses:** Only claim ITC on expenses that are directly related to your dance classes.\\n\\n### 2. **Choose the Correct GST Rate for Your Services**\\n**What It Is:** GST rates vary based on the type of service you provide. Ensuring you’re categorized correctly can impact the rate you pay.\\n\\n**How to Optimize:**\\n- **Verify Your Classification:** Dance classes typically fall under educational services, which might attract a lower GST rate (often 5%) compared to other categories. Ensure your services are classified correctly.\\n- **Consult the GST Rate Schedule:** Refer to the [GST Rate Schedule](https://www.gst.gov.in/) or consult a tax professional to confirm you’re applying the correct rate.\\n\\n### 3. **Opt for the Composition Scheme (If Eligible)**\\n**What It Is:** The Composition Scheme allows small businesses to pay a fixed percentage of their turnover as GST, simplifying the tax process.\\n\\n**Pros:**\\n- **Lower GST Rates:** Fixed rates are often lower than regular GST rates.\\n- **Simplified Filing:** Less paperwork and simpler compliance requirements.\\n\\n**Eligibility:**\\n- **Turnover Limit:** Your annual turnover should be below a certain threshold (₹5 crore as of the latest guidelines).\\n- **Restrictions:** Not available for certain types of businesses and services, so confirm if educational services like dance classes are eligible.\\n\\n**How to Apply:**\\n- **File Form GST CMP-08:** Submit this form online through the GST portal.\\n- **Adhere to Rules:** Once opted in, you must follow the rules strictly to avoid penalties.\\n\\n*Note: The Composition Scheme might have limitations on claiming ITC, so weigh the pros and cons before opting in.*\\n\\n### 4. **Optimize Your Business Expenses**\\n**What It Is:** Carefully managing and categorizing your business expenses can affect the GST you owe.\\n\\n**How to Optimize:**\\n- **Maximize ITC:** Ensure you’re claiming ITC on as many eligible business expenses as possible.\\n- **Separate Personal and Business Expenses:** This helps in accurately claiming ITC and avoiding disputes during audits.\\n- **Invest in Business Growth:** Reinvesting in areas that attract ITC, such as purchasing better equipment for your classes, can reduce your net GST liability.\\n\\n### 5. **Timely and Accurate GST Filings**\\n**What It Is:** Ensuring your GST returns are filed accurately and on time can prevent unnecessary fines and interest, effectively reducing your overall tax burden.\\n\\n**How to Optimize:**\\n- **Use Accounting Software:** Tools like Tally, Zoho Books, or QuickBooks can help manage invoices and filings efficiently.\\n- **Set Reminders:** Keep track of filing deadlines to avoid late fees.\\n- **Double-Check Entries:** Ensure all data is correctly entered to prevent errors that could lead to overpayment.\\n\\n### 6. **Seek Professional Tax Assistance**\\n**What It Is:** Engaging with a GST consultant or chartered accountant can help you navigate the complexities of GST law.\\n\\n**Benefits:**\\n- **Expert Advice:** Professionals can identify tax-saving opportunities specific to your business.\\n- **Compliance Assurance:** They ensure that your filings are accurate and comply with all regulations, preventing costly mistakes.\\n- **Strategic Planning:** Advisors can help you plan your finances in a way that optimizes tax liabilities.\\n\\n### 7. **Stay Updated with GST Changes**\\n**What It Is:** GST laws and rates can change periodically. Staying informed helps you adapt quickly to any modifications that could impact your tax liabilities.\\n\\n**How to Optimize:**\\n- **Regularly Visit the [GST Portal](https://www.gst.gov.in/):** Stay updated with the latest notifications and amendments.\\n- **Subscribe to Newsletters:** Tax professionals and financial websites often provide updates on GST changes.\\n- **Attend Workshops/Webinars:** Participate in sessions that explain recent GST developments relevant to your business.\\n\\n### 8. **Explore Exemptions and Special Schemes**\\n**What It Is:** Certain services and goods are exempt from GST or qualify for special schemes.\\n\\n**How to Optimize:**\\n- **Educational Exemptions:** Some educational services might be exempt or eligible for lower GST rates. Verify if your dance classes qualify.\\n- **Bundling Services:** Offering packages (like a series of classes) might fall under different GST rules that could be more favorable.\\n\\n### Final Recommendations\\n\\n- **Consult a GST Professional:** Given the complexity of GST laws, especially for a partnership firm running both online and offline classes, a tax professional can provide tailored advice.\\n- **Regularly Review Your GST Strategy:** As your business evolves, so might your GST obligations and opportunities for saving.\\n- **Ensure Compliance:** While seeking ways to reduce GST liability, always adhere to legal guidelines to avoid penalties and ensure the sustainability of your business.\\n\\nBy implementing these strategies, you can effectively manage and potentially reduce the GST burden on your dance partnership firm. Remember, the key is to optimize within the legal framework to ensure long-term benefits for your business.'"
      ]
     },
     "execution_count": 8,
     "metadata": {},
     "output_type": "execute_result"
    }
   ],
   "source": [
    "llm.invoke(\"suggest some ways to reduce my gst tax scenario[ Me and my wife have dance partnership firm  where we conduct online and offline class from 2019 to 2024 we paid around 50 laks as gst is there any way to reduce this cost ] suggest me some ways to reduce .we can do it in any way. give the very human understandable result becuase i don't have any knowledge of gst\").content"
   ]
  },
  {
   "cell_type": "code",
   "execution_count": 13,
   "metadata": {},
   "outputs": [],
   "source": [
    "from langchain_community.document_loaders import PyPDFLoader\n",
    "from langchain.text_splitter import RecursiveCharacterTextSplitter\n",
    "\n",
    "# Load the PDF and split it\n",
    "docs = PyPDFLoader(pdf_file_name).load_and_split()\n",
    "\n",
    "# Split text using RecursiveCharacterTextSplitter\n",
    "text_splitter = RecursiveCharacterTextSplitter.from_tiktoken_encoder(\n",
    "    chunk_size=chunk_size, chunk_overlap=chunk_overlap\n",
    ")\n",
    "\n",
    "doc_splits = text_splitter.split_documents(docs)\n"
   ]
  },
  {
   "cell_type": "code",
   "execution_count": 14,
   "metadata": {},
   "outputs": [],
   "source": [
    "\n",
    "# store the data in vector db(chromadb)\n",
    "from langchain_openai import OpenAIEmbeddings\n",
    "from langchain_chroma import Chroma\n",
    "\n",
    "vectordb = Chroma.from_documents(\n",
    "    documents=doc_splits,\n",
    "    collection_name=collection_name,\n",
    "    embedding=OpenAIEmbeddings(model = embedding_model),\n",
    "    persist_directory=str(vectordb_dir)\n",
    ")"
   ]
  },
  {
   "cell_type": "code",
   "execution_count": 15,
   "metadata": {},
   "outputs": [
    {
     "data": {
      "text/plain": [
       "[Document(metadata={'page': 5, 'source': '../data/unstructured_docs/swiss_airline_policy/Notification12-CGST.pdf'}, page_content='6 \\n \\nthis entry shall apply on or after the \\nexpiry of a period of one year f rom the \\ndate of commencement of operations of \\nthe regional connectivity scheme airport \\nas notified by the Ministry of Civil \\nAviation. \\n17 Heading 9964 Service of transportation of passengers, \\nwith or without accompanied belongings, \\nby—  \\n(a) railways in a class other than—  \\n(i) first class; or  \\n(ii) an air-conditioned coach;  \\n(b) metro, monorail or tramway;  \\n(c) inland waterways;  \\n(d) public transport, other than \\npredominantly for tourism purpose, in a \\nvessel between places located in Indi a; \\nand  \\n(e) metered cabs or auto rickshaws \\n(including e-rickshaws).  \\nNil Nil \\n18 Heading 9965  \\n \\nServices by way of transportation of \\ngoods-  \\n(a) by road except the services of— \\n(i) a goods transportation agency;  \\n(ii) a courier agency; \\n(b) by inland waterways.   \\nNil Nil \\n19 Heading 9965 Services by way of transportation of \\ngoods by an aircraft from a place outside \\nIndia upto the customs station of \\nclearance in India. \\nNil Nil \\n20 Heading 9965 \\n \\nServices by way of transportation by rail \\nor a vessel from one place in India to \\nanother of the following goods –  \\n(a) relief materials meant for victims of \\nnatural or man-made disasters, calamities, \\naccidents or mishap;  \\n(b) defence or military equipments;  \\n(c) newspaper or magazines registered \\nwith the Registrar of Newspapers; \\n(d) railway equipments or materials;  \\n(e) agricultural produce;  \\n(f) milk, salt and food grain including \\nflours, pulses and rice; and  \\nNil Nil'),\n",
       " Document(metadata={'page': 5, 'source': '../data/unstructured_docs/swiss_airline_policy/Notification12-CGST.pdf'}, page_content='6 \\n \\nthis entry shall apply on or after the \\nexpiry of a period of one year f rom the \\ndate of commencement of operations of \\nthe regional connectivity scheme airport \\nas notified by the Ministry of Civil \\nAviation. \\n17 Heading 9964 Service of transportation of passengers, \\nwith or without accompanied belongings, \\nby—  \\n(a) railways in a class other than—  \\n(i) first class; or  \\n(ii) an air-conditioned coach;  \\n(b) metro, monorail or tramway;  \\n(c) inland waterways;  \\n(d) public transport, other than \\npredominantly for tourism purpose, in a \\nvessel between places located in Indi a; \\nand  \\n(e) metered cabs or auto rickshaws \\n(including e-rickshaws).  \\nNil Nil \\n18 Heading 9965  \\n \\nServices by way of transportation of \\ngoods-  \\n(a) by road except the services of— \\n(i) a goods transportation agency;  \\n(ii) a courier agency; \\n(b) by inland waterways.   \\nNil Nil \\n19 Heading 9965 Services by way of transportation of \\ngoods by an aircraft from a place outside \\nIndia upto the customs station of \\nclearance in India. \\nNil Nil \\n20 Heading 9965 \\n \\nServices by way of transportation by rail \\nor a vessel from one place in India to \\nanother of the following goods –  \\n(a) relief materials meant for victims of \\nnatural or man-made disasters, calamities, \\naccidents or mishap;  \\n(b) defence or military equipments;  \\n(c) newspaper or magazines registered \\nwith the Registrar of Newspapers; \\n(d) railway equipments or materials;  \\n(e) agricultural produce;  \\n(f) milk, salt and food grain including \\nflours, pulses and rice; and  \\nNil Nil'),\n",
       " Document(metadata={'page': 5, 'source': '../data/unstructured_docs/swiss_airline_policy/Notification12-CGST.pdf'}, page_content='6 \\n \\nthis entry shall apply on or after the \\nexpiry of a period of one year f rom the \\ndate of commencement of operations of \\nthe regional connectivity scheme airport \\nas notified by the Ministry of Civil \\nAviation. \\n17 Heading 9964 Service of transportation of passengers, \\nwith or without accompanied belongings, \\nby—  \\n(a) railways in a class other than—  \\n(i) first class; or  \\n(ii) an air-conditioned coach;  \\n(b) metro, monorail or tramway;  \\n(c) inland waterways;  \\n(d) public transport, other than \\npredominantly for tourism purpose, in a \\nvessel between places located in Indi a; \\nand  \\n(e) metered cabs or auto rickshaws \\n(including e-rickshaws).  \\nNil Nil \\n18 Heading 9965  \\n \\nServices by way of transportation of \\ngoods-  \\n(a) by road except the services of— \\n(i) a goods transportation agency;  \\n(ii) a courier agency; \\n(b) by inland waterways.   \\nNil Nil \\n19 Heading 9965 Services by way of transportation of \\ngoods by an aircraft from a place outside \\nIndia upto the customs station of \\nclearance in India. \\nNil Nil \\n20 Heading 9965 \\n \\nServices by way of transportation by rail \\nor a vessel from one place in India to \\nanother of the following goods –  \\n(a) relief materials meant for victims of \\nnatural or man-made disasters, calamities, \\naccidents or mishap;  \\n(b) defence or military equipments;  \\n(c) newspaper or magazines registered \\nwith the Registrar of Newspapers; \\n(d) railway equipments or materials;  \\n(e) agricultural produce;  \\n(f) milk, salt and food grain including \\nflours, pulses and rice; and  \\nNil Nil'),\n",
       " Document(metadata={'page': 5, 'source': '../data/unstructured_docs/swiss_airline_policy/Notification12-CGST.pdf'}, page_content='6 \\n \\nthis entry shall apply on or after the \\nexpiry of a period of one year f rom the \\ndate of commencement of operations of \\nthe regional connectivity scheme airport \\nas notified by the Ministry of Civil \\nAviation. \\n17 Heading 9964 Service of transportation of passengers, \\nwith or without accompanied belongings, \\nby—  \\n(a) railways in a class other than—  \\n(i) first class; or  \\n(ii) an air-conditioned coach;  \\n(b) metro, monorail or tramway;  \\n(c) inland waterways;  \\n(d) public transport, other than \\npredominantly for tourism purpose, in a \\nvessel between places located in Indi a; \\nand  \\n(e) metered cabs or auto rickshaws \\n(including e-rickshaws).  \\nNil Nil \\n18 Heading 9965  \\n \\nServices by way of transportation of \\ngoods-  \\n(a) by road except the services of— \\n(i) a goods transportation agency;  \\n(ii) a courier agency; \\n(b) by inland waterways.   \\nNil Nil \\n19 Heading 9965 Services by way of transportation of \\ngoods by an aircraft from a place outside \\nIndia upto the customs station of \\nclearance in India. \\nNil Nil \\n20 Heading 9965 \\n \\nServices by way of transportation by rail \\nor a vessel from one place in India to \\nanother of the following goods –  \\n(a) relief materials meant for victims of \\nnatural or man-made disasters, calamities, \\naccidents or mishap;  \\n(b) defence or military equipments;  \\n(c) newspaper or magazines registered \\nwith the Registrar of Newspapers; \\n(d) railway equipments or materials;  \\n(e) agricultural produce;  \\n(f) milk, salt and food grain including \\nflours, pulses and rice; and  \\nNil Nil')]"
      ]
     },
     "execution_count": 15,
     "metadata": {},
     "output_type": "execute_result"
    }
   ],
   "source": [
    "vectordb.similarity_search(\"heading 9954\")"
   ]
  },
  {
   "cell_type": "code",
   "execution_count": 16,
   "metadata": {},
   "outputs": [],
   "source": [
    "EMBEDDING_MODEL = \"text-embedding-3-small\"\n",
    "VECTORDB_DIR = \"./DATA\"\n",
    "K = 2\n",
    "\n",
    "\n",
    "from langchain_core.tools import tool\n",
    "\n",
    "\n",
    "@tool\n",
    "def look_gst_data(query:str)->str:\n",
    "    \"\"\"\n",
    "    your full resonsible to answere the Goods and Services Tax (INDIA) present in documents\n",
    "    \"\"\"\n",
    "    vectordb = Chroma(\n",
    "        collection_name=collection_name,\n",
    "        persist_directory=vectordb_dir,\n",
    "        embedding_function=OpenAIEmbeddings(model=embedding_model)\n",
    "    )\n",
    "    \n",
    "    docs = vectordb.similarity_search(query=query,k=3)\n",
    "    return \"\\n\\n\".join([doc.page_content for doc in docs])"
   ]
  },
  {
   "cell_type": "code",
   "execution_count": 17,
   "metadata": {},
   "outputs": [],
   "source": [
    " # Webscrappig Tool\n",
    "\n",
    "from langchain_community.document_loaders import WebBaseLoader\n",
    "\n",
    "from bs4 import BeautifulSoup\n",
    "import requests\n",
    "\n",
    "\n",
    "\n",
    "def crawl_site_for_pdfs(base_url, visited=set()):\n",
    "    \"\"\"Recursively crawl the site to find all PDF links.\"\"\"\n",
    "    response = requests.get(base_url)\n",
    "    if response.status_code != 200:\n",
    "        return []\n",
    "\n",
    "    soup = BeautifulSoup(response.text, 'html.parser')\n",
    "    pdf_links = []\n",
    "\n",
    "    # Find all links\n",
    "    for link in soup.find_all('a', href=True):\n",
    "        href = link['href']\n",
    "        # Check if it's a PDF\n",
    "        if href.endswith('.pdf'):\n",
    "            full_url = href if href.startswith('http') else base_url + href\n",
    "            pdf_links.append(full_url)\n",
    "        # Crawl other pages on the same domain\n",
    "        elif base_url in href and href not in visited:\n",
    "            visited.add(href)\n",
    "            pdf_links.extend(crawl_site_for_pdfs(href, visited))\n",
    "\n",
    "    return pdf_links\n",
    "\n",
    "# Start crawling\n",
    "all_pdf_links = crawl_site_for_pdfs(\"https://www.icai.org/post/19142\")\n",
    "print(f\"Total PDFs found: {len(all_pdf_links)}\")\n",
    "\n"
   ]
  },
  {
   "cell_type": "code",
   "execution_count": 18,
   "metadata": {},
   "outputs": [],
   "source": [
    "# from langchain.document_loaders import WebBaseLoader\n",
    "\n",
    "# # List of PDF URLs (obtained from the previous step)\n",
    "# all_pdf_links\n",
    "\n",
    "# # Load each PDF using WebBaseLoader\n",
    "# documents = []\n",
    "# for pdf_url in all_pdf_links:\n",
    "#     loader = WebBaseLoader(pdf_url)\n",
    "#     documents.extend(loader.load())\n",
    "\n",
    "# # Display content of the loaded documents\n",
    "# for i, doc in enumerate(documents):\n",
    "#     print(f\"Document {i+1}:\")\n",
    "#     print(doc.page_content[:500])  # Print the first 500 characters\n"
   ]
  },
  {
   "cell_type": "code",
   "execution_count": 19,
   "metadata": {},
   "outputs": [],
   "source": [
    "# documents[0]"
   ]
  },
  {
   "cell_type": "code",
   "execution_count": 20,
   "metadata": {},
   "outputs": [
    {
     "data": {
      "text/plain": [
       "'11 \\n \\n40 Heading 9971 \\nor \\nHeading 9991 \\n \\nServices provided to the Central \\nGovernment, State Government, Union \\nterritory under any insurance scheme for \\nwhich total premium is paid by the \\nCentral Government, State Government,  \\nUnion territory. \\nNil Nil \\n41 Heading 9972 One time upfront amount (called as \\npremium, salami, cost, price, development \\ncharges or by any other name) leviable in \\nrespect of  the service, by way of granting \\nlong term (thirty years, or more) lease of \\nindustrial plots, provided by the State \\nGovernment Industrial Development \\nCorporations or Undertakings to industrial \\nunits. \\nNil Nil \\n42 Heading 9973  \\nor \\nHeading 9991 \\nServices provided by the Central \\nGovernment, State Government, Union \\nterritory or local au thority by way of \\nallowing a business entity to operate as a \\ntelecom service provider or use radio \\nfrequency spectrum  during the period \\nprior to the 1st April, 2016, on payment of \\nlicence fee or spectrum user charges, as \\nthe case may be. \\nNil Nil \\n43 Heading 9973 Services of leasing of assets (rolling stock \\nassets including wagons, coaches, locos) \\nby the Indian Railways Finance \\nCorporation to Indian Railways. \\nNil Nil \\n44 Heading 9981 Services provided by an incubatee  up to a \\ntotal turnover of fifty la kh rupees in a \\nfinancial year subject to the following \\nconditions, namely:-  \\n(a) the total turnover had not exceeded \\nfifty lakh rupees during the preceding \\nfinancial year; and  \\n(b) a period of three years has not elapsed \\nfrom the date of entering into an \\nagreement as an incubatee.  \\nNil Nil \\n45 Heading 9982  \\nor \\nHeading 9991 \\nServices provided by- \\n(a) an arbitral tribunal  to – \\n(i) any person other than a business\\n\\n11 \\n \\n40 Heading 9971 \\nor \\nHeading 9991 \\n \\nServices provided to the Central \\nGovernment, State Government, Union \\nterritory under any insurance scheme for \\nwhich total premium is paid by the \\nCentral Government, State Government,  \\nUnion territory. \\nNil Nil \\n41 Heading 9972 One time upfront amount (called as \\npremium, salami, cost, price, development \\ncharges or by any other name) leviable in \\nrespect of  the service, by way of granting \\nlong term (thirty years, or more) lease of \\nindustrial plots, provided by the State \\nGovernment Industrial Development \\nCorporations or Undertakings to industrial \\nunits. \\nNil Nil \\n42 Heading 9973  \\nor \\nHeading 9991 \\nServices provided by the Central \\nGovernment, State Government, Union \\nterritory or local au thority by way of \\nallowing a business entity to operate as a \\ntelecom service provider or use radio \\nfrequency spectrum  during the period \\nprior to the 1st April, 2016, on payment of \\nlicence fee or spectrum user charges, as \\nthe case may be. \\nNil Nil \\n43 Heading 9973 Services of leasing of assets (rolling stock \\nassets including wagons, coaches, locos) \\nby the Indian Railways Finance \\nCorporation to Indian Railways. \\nNil Nil \\n44 Heading 9981 Services provided by an incubatee  up to a \\ntotal turnover of fifty la kh rupees in a \\nfinancial year subject to the following \\nconditions, namely:-  \\n(a) the total turnover had not exceeded \\nfifty lakh rupees during the preceding \\nfinancial year; and  \\n(b) a period of three years has not elapsed \\nfrom the date of entering into an \\nagreement as an incubatee.  \\nNil Nil \\n45 Heading 9982  \\nor \\nHeading 9991 \\nServices provided by- \\n(a) an arbitral tribunal  to – \\n(i) any person other than a business\\n\\n11 \\n \\n40 Heading 9971 \\nor \\nHeading 9991 \\n \\nServices provided to the Central \\nGovernment, State Government, Union \\nterritory under any insurance scheme for \\nwhich total premium is paid by the \\nCentral Government, State Government,  \\nUnion territory. \\nNil Nil \\n41 Heading 9972 One time upfront amount (called as \\npremium, salami, cost, price, development \\ncharges or by any other name) leviable in \\nrespect of  the service, by way of granting \\nlong term (thirty years, or more) lease of \\nindustrial plots, provided by the State \\nGovernment Industrial Development \\nCorporations or Undertakings to industrial \\nunits. \\nNil Nil \\n42 Heading 9973  \\nor \\nHeading 9991 \\nServices provided by the Central \\nGovernment, State Government, Union \\nterritory or local au thority by way of \\nallowing a business entity to operate as a \\ntelecom service provider or use radio \\nfrequency spectrum  during the period \\nprior to the 1st April, 2016, on payment of \\nlicence fee or spectrum user charges, as \\nthe case may be. \\nNil Nil \\n43 Heading 9973 Services of leasing of assets (rolling stock \\nassets including wagons, coaches, locos) \\nby the Indian Railways Finance \\nCorporation to Indian Railways. \\nNil Nil \\n44 Heading 9981 Services provided by an incubatee  up to a \\ntotal turnover of fifty la kh rupees in a \\nfinancial year subject to the following \\nconditions, namely:-  \\n(a) the total turnover had not exceeded \\nfifty lakh rupees during the preceding \\nfinancial year; and  \\n(b) a period of three years has not elapsed \\nfrom the date of entering into an \\nagreement as an incubatee.  \\nNil Nil \\n45 Heading 9982  \\nor \\nHeading 9991 \\nServices provided by- \\n(a) an arbitral tribunal  to – \\n(i) any person other than a business'"
      ]
     },
     "execution_count": 20,
     "metadata": {},
     "output_type": "execute_result"
    }
   ],
   "source": [
    "# test the agent of gst lookup tool\n",
    "\n",
    "look_gst_data.invoke(\"what is 9954\")\n",
    "\n",
    "# you should treat yourself as the Goods and Services Tax expert you work specially around the indian goods and service tax (GST) if user can as the any query based on their business need try to solve.if user providing his business detail with number perform the calculation and give the solid answere and also you have reasoning ability"
   ]
  },
  {
   "cell_type": "code",
   "execution_count": 21,
   "metadata": {},
   "outputs": [],
   "source": [
    "# create llm as tool \n",
    "\n",
    "# large lang model o1-mini\n",
    "from langchain.schema import SystemMessage,HumanMessage\n",
    "\n",
    "@tool\n",
    "def get_llm_tool(query: str) -> str:\n",
    "    \"\"\"\n",
    "    Treat yourself as an expert in Indian Goods and Services Tax (GST). You should:\n",
    "    - Solve user queries based on their business needs.\n",
    "    - Perform calculations if business details with numbers are provided.\n",
    "    - Provide solid, actionable answers with reasoning and clarity.\n",
    "    \"\"\"\n",
    "\n",
    "    # Crafting the prompt\n",
    "    custom_prompt = (\n",
    "        \"You are an expert in Indian Goods and Services Tax (GST). Your role is to provide **practical and actionable solutions** \"\n",
    "        \"for GST-related queries. Follow these guidelines to ensure focused, result-oriented responses:\\n\"\n",
    "        \"1. Solve the user's query based on their business needs with **step-by-step actionable advice** that can be implemented directly.\\n\"\n",
    "        \"2. If business details with numbers are provided, perform **detailed calculations** based on GST rules and present the results clearly.\\n\"\n",
    "        \"3. Avoid lengthy theoretical explanations. Focus on **applicable GST rules, exemptions, credits, and liabilities** to address the user's situation.\\n\"\n",
    "        \"4. Use reasoning, examples, or real-world approaches only when necessary to clarify complex points or justify your calculations.\\n\"\n",
    "        \"5. Always deliver a **clear, concise, and implementable answer**.\\n\\n\"\n",
    "        \"User Query:\\n\"\n",
    "        f\"{query}\\n\\n\"\n",
    "        \"Your response should be easy to understand, focused on practical outcomes, and include any calculations or GST rules applied to the solution.\"\n",
    "    )\n",
    "\n",
    "\n",
    "    # Initialize the ChatOpenAI LLM\n",
    "    llm = ChatOpenAI(model=\"o1-preview\")\n",
    "\n",
    "    # Invoke the LLM with the crafted prompt\n",
    "    response = llm.invoke(custom_prompt)\n",
    "\n",
    "    # Return the LLM's response content\n",
    "    return response.content\n",
    "\n",
    "\n",
    "\n",
    "# get_llm_tool.invoke(\"suggest some ways to reduce my gst tax scenario[ Me and my wife have dance partnership firm  where we conduct online and offline class from 2019 to 2024 we paid around 50 laks as gst is there any way to reduce this cost ] suggest me some ways to reduce .we can do it in any way. give the very human understandable result becuase i don't have any knlowlegtool_with_llme of gst\")\n",
    "\n",
    "# get_llm_tool.invoke(\"Select the number from among the given options that can replace the question mark (?) in the following series. 28, 32, 41, 57 i want one line answere\")\n",
    "\n"
   ]
  },
  {
   "cell_type": "code",
   "execution_count": 22,
   "metadata": {},
   "outputs": [],
   "source": [
    "llm = ChatOpenAI(model=\"gpt-4o\",temperature=0)\n",
    "\n",
    "tool = [look_gst_data, get_llm_tool]\n",
    "\n",
    "tool_with_llm = llm.bind_tools(tools=tool)\n",
    "\n",
    "# tool_with_llm.invoke(\"suggest some ways to reduce my gst tax scenario[ Me and my wife have dance partnership firm  where we conduct online and offline class from 2019 to 2024 we paid around 50 laks as gst is there any way to reduce this cost ] suggest me some ways to reduce .we can do it in any way. give the very human understandable result becuase i don't have any knlowlege of gst\").content\n"
   ]
  },
  {
   "cell_type": "code",
   "execution_count": 23,
   "metadata": {},
   "outputs": [
    {
     "data": {
      "text/plain": [
       "AIMessage(content='Hello Ankit! How can I assist you today?', additional_kwargs={'refusal': None}, response_metadata={'token_usage': {'completion_tokens': 13, 'prompt_tokens': 131, 'total_tokens': 144, 'completion_tokens_details': {'accepted_prediction_tokens': 0, 'audio_tokens': 0, 'reasoning_tokens': 0, 'rejected_prediction_tokens': 0}, 'prompt_tokens_details': {'audio_tokens': 0, 'cached_tokens': 0}}, 'model_name': 'gpt-4o-2024-08-06', 'system_fingerprint': 'fp_50cad350e4', 'finish_reason': 'stop', 'logprobs': None}, id='run-871e49fc-f035-40d2-bf0f-52475c626373-0', usage_metadata={'input_tokens': 131, 'output_tokens': 13, 'total_tokens': 144, 'input_token_details': {'audio': 0, 'cache_read': 0}, 'output_token_details': {'audio': 0, 'reasoning': 0}})"
      ]
     },
     "execution_count": 23,
     "metadata": {},
     "output_type": "execute_result"
    }
   ],
   "source": [
    "\n",
    "tool_with_llm.invoke(\"hi my name is ankit\")"
   ]
  },
  {
   "cell_type": "code",
   "execution_count": 24,
   "metadata": {},
   "outputs": [
    {
     "data": {
      "text/plain": [
       "AIMessage(content='The Goods and Services Tax (GST) is a comprehensive indirect tax levied on the supply of goods and services in India. It is a single tax on the supply of goods and services, right from the manufacturer to the consumer. GST is designed to be a unified tax system that replaces multiple indirect taxes previously levied by the central and state governments, such as excise duty, VAT, service tax, etc.\\n\\nKey features of GST include:\\n\\n1. **Dual Structure**: GST in India is a dual system, meaning it is administered both by the central and state governments. It comprises:\\n   - Central GST (CGST) - levied by the Central Government.\\n   - State GST (SGST) - levied by the State Governments.\\n   - Integrated GST (IGST) - levied on inter-state supply of goods and services.\\n\\n2. **Destination-Based Taxation**: GST is a destination-based tax, meaning the tax is collected by the state where the goods or services are consumed, rather than where they are produced.\\n\\n3. **Input Tax Credit**: Businesses can claim credit for the GST paid on their purchases, which can be used to offset the GST they need to pay on their sales. This helps in avoiding the cascading effect of taxes.\\n\\n4. **Standardized Tax Rates**: GST has standardized tax rates across the country, which helps in reducing the complexity of tax compliance for businesses operating in multiple states.\\n\\n5. **Digital Compliance**: GST compliance is largely digital, with businesses required to file returns and maintain records electronically.\\n\\nOverall, GST aims to simplify the tax structure, increase compliance, and create a common national market by eliminating the tax barriers between states.', additional_kwargs={'refusal': None}, response_metadata={'token_usage': {'completion_tokens': 343, 'prompt_tokens': 128, 'total_tokens': 471, 'completion_tokens_details': {'accepted_prediction_tokens': 0, 'audio_tokens': 0, 'reasoning_tokens': 0, 'rejected_prediction_tokens': 0}, 'prompt_tokens_details': {'audio_tokens': 0, 'cached_tokens': 0}}, 'model_name': 'gpt-4o-2024-08-06', 'system_fingerprint': 'fp_50cad350e4', 'finish_reason': 'stop', 'logprobs': None}, id='run-8b83f5b8-bbc3-4e53-b0e0-d950da606b94-0', usage_metadata={'input_tokens': 128, 'output_tokens': 343, 'total_tokens': 471, 'input_token_details': {'audio': 0, 'cache_read': 0}, 'output_token_details': {'audio': 0, 'reasoning': 0}})"
      ]
     },
     "execution_count": 24,
     "metadata": {},
     "output_type": "execute_result"
    }
   ],
   "source": [
    "tool_with_llm.invoke(\"what is gst\")"
   ]
  },
  {
   "cell_type": "code",
   "execution_count": 25,
   "metadata": {},
   "outputs": [
    {
     "data": {
      "text/plain": [
       "AIMessage(content='The number that can replace the question mark (?) in the series is 80.', additional_kwargs={'refusal': None}, response_metadata={'token_usage': {'completion_tokens': 18, 'prompt_tokens': 164, 'total_tokens': 182, 'completion_tokens_details': {'accepted_prediction_tokens': 0, 'audio_tokens': 0, 'reasoning_tokens': 0, 'rejected_prediction_tokens': 0}, 'prompt_tokens_details': {'audio_tokens': 0, 'cached_tokens': 0}}, 'model_name': 'gpt-4o-2024-08-06', 'system_fingerprint': 'fp_50cad350e4', 'finish_reason': 'stop', 'logprobs': None}, id='run-30285efc-44fa-490c-9b38-4c5234a7fd76-0', usage_metadata={'input_tokens': 164, 'output_tokens': 18, 'total_tokens': 182, 'input_token_details': {'audio': 0, 'cache_read': 0}, 'output_token_details': {'audio': 0, 'reasoning': 0}})"
      ]
     },
     "execution_count": 25,
     "metadata": {},
     "output_type": "execute_result"
    }
   ],
   "source": [
    "tool_with_llm.invoke(\"Select the number from among the given options that can replace the question mark (?) in the following series. 28, 32, 41, 57 ?.## i want one line answere\")"
   ]
  },
  {
   "cell_type": "code",
   "execution_count": 26,
   "metadata": {},
   "outputs": [],
   "source": [
    "from typing import Annotated\n",
    "from typing_extensions import TypedDict\n",
    "from langgraph.graph import StateGraph, START\n",
    "from langgraph.graph.message import add_messages\n",
    "\n",
    "\n",
    "class State(TypedDict):\n",
    "    messages: Annotated[list, add_messages]\n",
    "\n",
    "graph_builder = StateGraph(State)"
   ]
  },
  {
   "cell_type": "code",
   "execution_count": 27,
   "metadata": {},
   "outputs": [],
   "source": [
    "def chatbot(state: State):\n",
    "    return {\"messages\": [tool_with_llm.invoke(state[\"messages\"])]}\n",
    "\n",
    "graph_builder.add_node(\"chatbot\", chatbot)"
   ]
  },
  {
   "cell_type": "code",
   "execution_count": 28,
   "metadata": {},
   "outputs": [],
   "source": [
    "import json\n",
    "from langchain_core.messages import ToolMessage\n",
    "\n",
    "import sys\n",
    "class BasicToolNode:\n",
    "    \"\"\"A node that runs the tools requested in the last AIMessage.\"\"\"\n",
    "\n",
    "    def __init__(self, tools: list) -> None:\n",
    "        self.tools_by_name = {tool.name: tool for tool in tools}\n",
    "\n",
    "    def __call__(self, inputs: dict):\n",
    "        if messages := inputs.get(\"messages\", []):\n",
    "            message = messages[-1]\n",
    "        else:\n",
    "            raise ValueError(\"No message found in input\")\n",
    "        outputs = []\n",
    "        for tool_call in message.tool_calls:\n",
    "            \n",
    "\n",
    "            tool_result = self.tools_by_name[tool_call[\"name\"]].invoke(\n",
    "                tool_call[\"args\"]\n",
    "            )\n",
    "\n",
    "            outputs.append(\n",
    "                ToolMessage(\n",
    "                    content=json.dumps(tool_result),\n",
    "                    name=tool_call[\"name\"],\n",
    "                    tool_call_id=tool_call[\"id\"],\n",
    "                )\n",
    "            )\n",
    "\n",
    "        return {\"messages\": outputs}\n",
    "\n",
    "# {'name': 'get_llm_tool', 'args': {'query': 'Can I cancel my flight ticket 10 hours before the flight?'}, 'id': 'call_EdbO9kD3zXZ8vwohG5kEEiYm', 'type': 'tool_call'}\n",
    "\n",
    "tool_node = BasicToolNode(tools=[look_gst_data,get_llm_tool])\n",
    "\n",
    "graph_builder.add_node(\"tools\", tool_node)"
   ]
  },
  {
   "cell_type": "code",
   "execution_count": 29,
   "metadata": {},
   "outputs": [],
   "source": [
    "from langgraph.graph import END, MessagesState\n",
    "from typing import Literal\n",
    "\n",
    "# Define the function that determines whether to continue or not\n",
    "def should_continue(state: MessagesState) -> Literal[\"tools\", END]:\n",
    "    messages = state['messages']\n",
    "    last_message = messages[-1]\n",
    "    # If the LLM makes a tool call, then we route to the \"tools\" node\n",
    "    if last_message.tool_calls:\n",
    "        return \"tools\"\n",
    "    # Otherwise, we stop (reply to the user)\n",
    "    return END\n",
    "\n",
    "graph_builder.add_conditional_edges(\n",
    "    \"chatbot\",\n",
    "    should_continue,\n",
    "    [\"tools\", END],\n",
    ")\n",
    "# Any time a tool is called, we return to the chatbot to decide the next step\n",
    "graph_builder.add_edge(\"tools\", \"chatbot\")\n",
    "graph_builder.add_edge(START, \"chatbot\")"
   ]
  },
  {
   "cell_type": "code",
   "execution_count": 30,
   "metadata": {},
   "outputs": [],
   "source": [
    "from langgraph.checkpoint.memory import MemorySaver\n",
    "\n",
    "memory = MemorySaver()\n",
    "graph = graph_builder.compile(checkpointer=memory)"
   ]
  },
  {
   "cell_type": "code",
   "execution_count": 31,
   "metadata": {},
   "outputs": [
    {
     "data": {
      "image/png": "[encoded data removed]",
      "text/plain": [
       "<IPython.core.display.Image object>"
      ]
     },
     "metadata": {},
     "output_type": "display_data"
    }
   ],
   "source": [
    "from IPython.display import Image, display\n",
    "\n",
    "try:\n",
    "    display(Image(graph.get_graph().draw_mermaid_png()))\n",
    "except Exception:\n",
    "    # This requires some extra dependencies and is optional\n",
    "    pass"
   ]
  },
  {
   "cell_type": "code",
   "execution_count": 32,
   "metadata": {},
   "outputs": [],
   "source": [
    "save = False\n",
    "\n",
    "if save:\n",
    "    from PIL import Image as PILImage\n",
    "    import io\n",
    "    # Assuming graph.get_graph().draw_mermaid_png() returns PNG binary data\n",
    "    try:\n",
    "        # Generate the PNG image from the graph\n",
    "        png_data = graph.get_graph().draw_mermaid_png()\n",
    "        \n",
    "        # Convert the binary data into an image\n",
    "        img = PILImage.open(io.BytesIO(png_data))\n",
    "        \n",
    "        # Save the image locally with 300 DPI\n",
    "        img.save('output_image.png', 'PNG', dpi=(300, 300))\n",
    "        \n",
    "        print(\"Image saved successfully with 300 DPI.\")\n",
    "    except Exception as e:\n",
    "        print(f\"Error: {e}\")"
   ]
  },
  {
   "cell_type": "code",
   "execution_count": 33,
   "metadata": {},
   "outputs": [],
   "source": [
    "config = {\"configurable\": {\"thread_id\": \"1\"}}"
   ]
  },
  {
   "cell_type": "code",
   "execution_count": 34,
   "metadata": {},
   "outputs": [
    {
     "name": "stdout",
     "output_type": "stream",
     "text": [
      "================================\u001b[1m Human Message \u001b[0m=================================\n",
      "\n",
      "Hi there! My name is Farzad.\n",
      "==================================\u001b[1m Ai Message \u001b[0m==================================\n",
      "\n",
      "Hello Farzad! How can I assist you today?\n"
     ]
    }
   ],
   "source": [
    "user_input = \"Hi there! My name is Farzad.\"\n",
    "\n",
    "# The config is the **second positional argument** to stream() or invoke()!\n",
    "events = graph.stream(\n",
    "    {\"messages\": [(\"user\", user_input)]}, config, stream_mode=\"values\"\n",
    ")\n",
    "for event in events:\n",
    "    event[\"messages\"][-1].pretty_print()"
   ]
  },
  {
   "cell_type": "code",
   "execution_count": 36,
   "metadata": {},
   "outputs": [
    {
     "name": "stdout",
     "output_type": "stream",
     "text": [
      "================================\u001b[1m Human Message \u001b[0m=================================\n",
      "\n",
      "what is Heading 9964\n",
      "==================================\u001b[1m Ai Message \u001b[0m==================================\n",
      "Tool Calls:\n",
      "  look_gst_data (call_mxEeod50SlqbwuOuoaz4NiEU)\n",
      " Call ID: call_mxEeod50SlqbwuOuoaz4NiEU\n",
      "  Args:\n",
      "    query: Heading 9964\n",
      "=================================\u001b[1m Tool Message \u001b[0m=================================\n",
      "Name: look_gst_data\n",
      "\n",
      "\"6 \\n \\nthis entry shall apply on or after the \\nexpiry of a period of one year f rom the \\ndate of commencement of operations of \\nthe regional connectivity scheme airport \\nas notified by the Ministry of Civil \\nAviation. \\n17 Heading 9964 Service of transportation of passengers, \\nwith or without accompanied belongings, \\nby\\u2014  \\n(a) railways in a class other than\\u2014  \\n(i) first class; or  \\n(ii) an air-conditioned coach;  \\n(b) metro, monorail or tramway;  \\n(c) inland waterways;  \\n(d) public transport, other than \\npredominantly for tourism purpose, in a \\nvessel between places located in Indi a; \\nand  \\n(e) metered cabs or auto rickshaws \\n(including e-rickshaws).  \\nNil Nil \\n18 Heading 9965  \\n \\nServices by way of transportation of \\ngoods-  \\n(a) by road except the services of\\u2014 \\n(i) a goods transportation agency;  \\n(ii) a courier agency; \\n(b) by inland waterways.   \\nNil Nil \\n19 Heading 9965 Services by way of transportation of \\ngoods by an aircraft from a place outside \\nIndia upto the customs station of \\nclearance in India. \\nNil Nil \\n20 Heading 9965 \\n \\nServices by way of transportation by rail \\nor a vessel from one place in India to \\nanother of the following goods \\u2013  \\n(a) relief materials meant for victims of \\nnatural or man-made disasters, calamities, \\naccidents or mishap;  \\n(b) defence or military equipments;  \\n(c) newspaper or magazines registered \\nwith the Registrar of Newspapers; \\n(d) railway equipments or materials;  \\n(e) agricultural produce;  \\n(f) milk, salt and food grain including \\nflours, pulses and rice; and  \\nNil Nil\\n\\n6 \\n \\nthis entry shall apply on or after the \\nexpiry of a period of one year f rom the \\ndate of commencement of operations of \\nthe regional connectivity scheme airport \\nas notified by the Ministry of Civil \\nAviation. \\n17 Heading 9964 Service of transportation of passengers, \\nwith or without accompanied belongings, \\nby\\u2014  \\n(a) railways in a class other than\\u2014  \\n(i) first class; or  \\n(ii) an air-conditioned coach;  \\n(b) metro, monorail or tramway;  \\n(c) inland waterways;  \\n(d) public transport, other than \\npredominantly for tourism purpose, in a \\nvessel between places located in Indi a; \\nand  \\n(e) metered cabs or auto rickshaws \\n(including e-rickshaws).  \\nNil Nil \\n18 Heading 9965  \\n \\nServices by way of transportation of \\ngoods-  \\n(a) by road except the services of\\u2014 \\n(i) a goods transportation agency;  \\n(ii) a courier agency; \\n(b) by inland waterways.   \\nNil Nil \\n19 Heading 9965 Services by way of transportation of \\ngoods by an aircraft from a place outside \\nIndia upto the customs station of \\nclearance in India. \\nNil Nil \\n20 Heading 9965 \\n \\nServices by way of transportation by rail \\nor a vessel from one place in India to \\nanother of the following goods \\u2013  \\n(a) relief materials meant for victims of \\nnatural or man-made disasters, calamities, \\naccidents or mishap;  \\n(b) defence or military equipments;  \\n(c) newspaper or magazines registered \\nwith the Registrar of Newspapers; \\n(d) railway equipments or materials;  \\n(e) agricultural produce;  \\n(f) milk, salt and food grain including \\nflours, pulses and rice; and  \\nNil Nil\\n\\n6 \\n \\nthis entry shall apply on or after the \\nexpiry of a period of one year f rom the \\ndate of commencement of operations of \\nthe regional connectivity scheme airport \\nas notified by the Ministry of Civil \\nAviation. \\n17 Heading 9964 Service of transportation of passengers, \\nwith or without accompanied belongings, \\nby\\u2014  \\n(a) railways in a class other than\\u2014  \\n(i) first class; or  \\n(ii) an air-conditioned coach;  \\n(b) metro, monorail or tramway;  \\n(c) inland waterways;  \\n(d) public transport, other than \\npredominantly for tourism purpose, in a \\nvessel between places located in Indi a; \\nand  \\n(e) metered cabs or auto rickshaws \\n(including e-rickshaws).  \\nNil Nil \\n18 Heading 9965  \\n \\nServices by way of transportation of \\ngoods-  \\n(a) by road except the services of\\u2014 \\n(i) a goods transportation agency;  \\n(ii) a courier agency; \\n(b) by inland waterways.   \\nNil Nil \\n19 Heading 9965 Services by way of transportation of \\ngoods by an aircraft from a place outside \\nIndia upto the customs station of \\nclearance in India. \\nNil Nil \\n20 Heading 9965 \\n \\nServices by way of transportation by rail \\nor a vessel from one place in India to \\nanother of the following goods \\u2013  \\n(a) relief materials meant for victims of \\nnatural or man-made disasters, calamities, \\naccidents or mishap;  \\n(b) defence or military equipments;  \\n(c) newspaper or magazines registered \\nwith the Registrar of Newspapers; \\n(d) railway equipments or materials;  \\n(e) agricultural produce;  \\n(f) milk, salt and food grain including \\nflours, pulses and rice; and  \\nNil Nil\"\n",
      "==================================\u001b[1m Ai Message \u001b[0m==================================\n",
      "\n",
      "**Heading 9964** pertains to the service of transportation of passengers, with or without accompanied belongings, by various means such as:\n",
      "\n",
      "- Railways in a class other than:\n",
      "  - First class\n",
      "  - An air-conditioned coach\n",
      "- Metro, monorail, or tramway\n",
      "- Inland waterways\n",
      "- Public transport, other than predominantly for tourism purposes, in a vessel between places located in India\n",
      "- Metered cabs or auto rickshaws (including e-rickshaws)\n",
      "\n",
      "The GST rate for these services is **Nil**, meaning they are exempt from GST.\n"
     ]
    }
   ],
   "source": [
    "# user_input = \"Select the number from among the given options that can replace the question mark (?) in the following series. 28, 32, 41, 57?\"\n",
    "user_input = \"suggest some ways to reduce my gst tax scenario\"\n",
    "user_input = \"Me and my wife have dance partnership firm  where we conduct online and offline class from 2019 to 2024 we paid around 50 laks as gst is there any way to reduce this cost. suggest me some ways to reduce \"\n",
    "# user_input = \"Select the number from among the given options that can replace the question mark (?) in the following series. 28, 32, 41, 57 ?\"\n",
    "user_input = \"please help me understand the tax liability from this sale of apartment  Bought flat in 2007 for 14lkah Sold it in Dec 2024 for 45 Lakh Am i eligible to get indexation benefit What would be the tentative tax liability - if eligible for indexation Is it worth to invest the proceeds in another flat of 60lakh(which will have 7-9% tax and administrative charges additional), or invest it in a Mutual Fund lumpsum\"\n",
    "user_input = \"what is Heading 9964\"\n",
    "\n",
    "events = graph.stream(\n",
    "    {\"messages\": [(\"user\", user_input)]}, config, stream_mode=\"values\"\n",
    ")\n",
    "for event in events:\n",
    "    event[\"messages\"][-1].pretty_print()"
   ]
  },
  {
   "cell_type": "code",
   "execution_count": null,
   "metadata": {},
   "outputs": [],
   "source": [
    "# Here's a detailed breakdown of your tax liability from the sale of your apartment and the potential investment options:\n",
    "\n",
    "# ### Tax Liability Calculation\n",
    "\n",
    "# 1. **Indexed Cost of Acquisition (ICOA):**\n",
    "#    - **Original Purchase Price (2007):** ₹14,00,000\n",
    "#    - **Cost Inflation Index (CII) for 2007-08:** 129\n",
    "#    - **Estimated CII for 2024-25:** 365 (estimated based on historical trends)\n",
    "\n",
    "#    \\[\n",
    "#    \\text{ICOA} = \\text{Original Cost} \\times \\left( \\frac{\\text{CII in Year of Sale}}{\\text{CII in Year of Purchase}} \\right) = ₹14,00,000 \\times \\left( \\frac{365}{129} \\right) \\approx ₹39,60,161\n",
    "#    \\]\n",
    "\n",
    "# 2. **Long-Term Capital Gain (LTCG):**\n",
    "#    - **Sale Price (Dec 2024):** ₹45,00,000\n",
    "#    - **LTCG = Sale Price - ICOA = ₹45,00,000 - ₹39,60,161 = ₹5,39,839**\n",
    "\n",
    "# 3. **Tax Liability:**\n",
    "#    - **Tax Rate on LTCG:** 20%\n",
    "#    - **Health and Education Cess:** 4%\n",
    "\n",
    "#    \\[\n",
    "#    \\text{Basic Tax} = 20\\% \\times ₹5,39,839 = ₹1,07,968\n",
    "#    \\]\n",
    "#    \\[\n",
    "#    \\text{Cess} = 4\\% \\times ₹1,07,968 = ₹4,319\n",
    "#    \\]\n",
    "#    \\[\n",
    "#    \\text{Total Tax Liability} = ₹1,07,968 + ₹4,319 = ₹1,12,287\n",
    "#    \\]\n",
    "\n",
    "# **Your approximate tax liability is ₹1,12,287.**\n",
    "\n",
    "# ### Investment Options\n",
    "\n",
    "# #### Option 1: Invest in Another Residential Property (Section 54)\n",
    "# - **Reinvest the LTCG amount of ₹5,39,839 in a new residential property.**\n",
    "# - **Benefits:** Full exemption of LTCG tax on the amount invested.\n",
    "# - **Conditions:** Purchase within 2 years or construct within 3 years; the new property must be in India.\n",
    "\n",
    "# #### Option 2: Invest in Specified Bonds (Section 54EC)\n",
    "# - **Invest the LTCG amount in government-specified bonds (e.g., NHAI, REC bonds).**\n",
    "# - **Benefits:** Exemption of LTCG tax up to the amount invested.\n",
    "# - **Lock-in Period:** 5 years.\n",
    "\n",
    "# #### Option 3: Pay the Tax and Invest Freely\n",
    "# - **Pay the LTCG tax of ₹1,12,287.**\n",
    "# - **Benefits:** No restrictions on how you use the remaining sale proceeds.\n",
    "# - **Consideration:** You can invest the remaining amount in mutual funds or other investment options.\n",
    "\n",
    "# ### Recommendation\n",
    "\n",
    "# - **If Tax Saving is Your Priority:**\n",
    "#   - **Invest in Another Residential Property:** Offers full tax exemption but requires significant capital commitment.\n",
    "#   - **Invest in Specified Bonds:** Provides tax exemption with a smaller investment and less capital outlay.\n",
    "\n",
    "# - **If Investment Flexibility and Liquidity are Important:**\n",
    "#   - **Pay the LTCG Tax:** After paying the tax, you have the freedom to invest the remaining funds as you wish, such as in mutual funds.\n",
    "\n",
    "# Make a decision based on your financial situation, investment horizon, and risk appetite to optimize your tax liability and meet your financial goals.\n"
   ]
  },
  {
   "cell_type": "code",
   "execution_count": 4,
   "metadata": {},
   "outputs": [],
   "source": [
    "# ndexed property value = 14 * 363 / 129 = 39.39 CII table\n",
    "\n",
    "# CG with indexation rule = 6L, tax = 1.2L\n",
    "\n",
    "# CG without indexation = 31, tax 3.9L.\n",
    "\n",
    "# Actual tax liability = min(1.2,3.9) = 1.2L\n",
    "\n",
    "# I would invest in MF instead of bothering with saving 1.2L tax."
   ]
  },
  {
   "cell_type": "code",
   "execution_count": null,
   "metadata": {},
   "outputs": [],
   "source": []
  }
 ],
 "metadata": {
  "kernelspec": {
   "display_name": "botenv",
   "language": "python",
   "name": "python3"
  },
  "language_info": {
   "codemirror_mode": {
    "name": "ipython",
    "version": 3
   },
   "file_extension": ".py",
   "mimetype": "text/x-python",
   "name": "python",
   "nbconvert_exporter": "python",
   "pygments_lexer": "ipython3",
   "version": "3.12.3"
  }
 },
 "nbformat": 4,
 "nbformat_minor": 2
}
